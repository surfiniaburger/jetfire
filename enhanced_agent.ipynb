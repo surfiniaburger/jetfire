{
  "cells": [
    {
      "cell_type": "code",
      "execution_count": null,
      "metadata": {
        "id": "ur8xi4C7S06n"
      },
      "outputs": [],
      "source": [
        "# Copyright 2024 Google LLC\n",
        "#\n",
        "# Licensed under the Apache License, Version 2.0 (the \"License\");\n",
        "# you may not use this file except in compliance with the License.\n",
        "# You may obtain a copy of the License at\n",
        "#\n",
        "#     https://www.apache.org/licenses/LICENSE-2.0\n",
        "#\n",
        "# Unless required by applicable law or agreed to in writing, software\n",
        "# distributed under the License is distributed on an \"AS IS\" BASIS,\n",
        "# WITHOUT WARRANTIES OR CONDITIONS OF ANY KIND, either express or implied.\n",
        "# See the License for the specific language governing permissions and\n",
        "# limitations under the License."
      ]
    },
    {
      "cell_type": "markdown",
      "metadata": {
        "id": "JAPoU8Sm5E6e"
      },
      "source": [
        "# AI Agents for Engineers (Evolution of AI Agents)\n",
        "\n",
        "<a target=\"_blank\" href=\"https://colab.research.google.com/github/GoogleCloudPlatform/generative-ai/blob/main/workshops/ai-agents/ai_agents_for_engineers.ipynb\">\n",
        "  <img src=\"https://colab.research.google.com/assets/colab-badge.svg\" alt=\"Open In Colab\"/>\n",
        "</a>"
      ]
    },
    {
      "cell_type": "markdown",
      "metadata": {
        "id": "84f0f73a0f76"
      },
      "source": [
        "| | |\n",
        "|-|-|\n",
        "| Author(s) | [Kristopher Overholt](https://github.com/koverholt) [Holt Skinner](https://github.com/holtskinner)|"
      ]
    },
    {
      "cell_type": "markdown",
      "metadata": {
        "id": "tvgnzT1CKxrO"
      },
      "source": [
        "## Overview\n",
        "\n",
        "This notebook demonstrates 3 different approaches to generating essays using the [Gemini Developer API](https://ai.google.dev/gemini-api/docs) or [Gemini API in Vertex AI](https://cloud.google.com/vertex-ai/generative-ai/docs/overview). Each method illustrates a distinct paradigm for running AI Agents in differing levels of complexity.\n",
        "\n",
        "1. Zero-Shot Approach with the Gemini API\n",
        "2. Step-by-Step Approach With LangChain\n",
        "3. Iterative, AI-Agent Approach with LangGraph"
      ]
    },
    {
      "cell_type": "markdown",
      "metadata": {
        "id": "61RBz8LLbxCR"
      },
      "source": [
        "## Get started"
      ]
    },
    {
      "cell_type": "markdown",
      "metadata": {
        "id": "No17Cw5hgx12"
      },
      "source": [
        "### Install Gemini SDK and other required packages\n"
      ]
    },
    {
      "cell_type": "code",
      "execution_count": 48,
      "metadata": {
        "id": "tFy3H3aPgx12",
        "outputId": "5fddb36c-2406-410f-e88e-2edfd0883563",
        "colab": {
          "base_uri": "https://localhost:8080/"
        }
      },
      "outputs": [
        {
          "output_type": "stream",
          "name": "stdout",
          "text": [
            "\u001b[?25l   \u001b[90m━━━━━━━━━━━━━━━━━━━━━━━━━━━━━━━━━━━━━━━━\u001b[0m \u001b[32m0.0/124.9 kB\u001b[0m \u001b[31m?\u001b[0m eta \u001b[36m-:--:--\u001b[0m\r\u001b[2K   \u001b[90m━━━━━━━━━━━━━━━━━━━━━━━━━━━━━━━━━━━━━━━━\u001b[0m \u001b[32m124.9/124.9 kB\u001b[0m \u001b[31m4.0 MB/s\u001b[0m eta \u001b[36m0:00:00\u001b[0m\n",
            "\u001b[?25h"
          ]
        }
      ],
      "source": [
        "%pip install --upgrade --quiet \\\n",
        "    google-genai \\\n",
        "    langgraph \\\n",
        "    langchain \\\n",
        "    langchain-google-genai \\\n",
        "    langchain-google-vertexai \\\n",
        "    langchain-groq \\\n",
        "    langchain-community \\\n",
        "    tavily-python \\\n",
        "    pydantic"
      ]
    },
    {
      "cell_type": "code",
      "source": [
        "!pip uninstall google-generativeai google-ai-generativelanguage -y"
      ],
      "metadata": {
        "id": "9J8w2x-ewX80"
      },
      "execution_count": null,
      "outputs": []
    },
    {
      "cell_type": "code",
      "source": [
        "!pip install google-generativeai==0.8.4 google-ai-generativelanguage==0.6.15"
      ],
      "metadata": {
        "id": "0TVdJXXjwaeL"
      },
      "execution_count": null,
      "outputs": []
    },
    {
      "cell_type": "markdown",
      "metadata": {
        "id": "R5Xep4W9lq-Z"
      },
      "source": [
        "### Restart runtime\n",
        "\n",
        "To use the newly installed packages in this Jupyter runtime, you must restart the runtime. You can do this by running the cell below, which restarts the current kernel.\n",
        "\n",
        "The restart might take a minute or longer. After it's restarted, continue to the next step."
      ]
    },
    {
      "cell_type": "code",
      "execution_count": null,
      "metadata": {
        "id": "XRvKdaPDTznN"
      },
      "outputs": [],
      "source": [
        "import IPython\n",
        "\n",
        "app = IPython.Application.instance()\n",
        "app.kernel.do_shutdown(True)"
      ]
    },
    {
      "cell_type": "markdown",
      "metadata": {
        "id": "SbmM4z7FOBpM"
      },
      "source": [
        "<div class=\"alert alert-block alert-warning\">\n",
        "<b>⚠️ The kernel is going to restart. Wait until it's finished before continuing to the next step. ⚠️</b>\n",
        "</div>\n"
      ]
    },
    {
      "cell_type": "markdown",
      "metadata": {
        "id": "b1824bd79df4"
      },
      "source": [
        "### Configure Tavily\n",
        "\n",
        "Get an API key for [Tavily](https://tavily.com/), a web search API for Generative AI models."
      ]
    },
    {
      "cell_type": "code",
      "execution_count": null,
      "metadata": {
        "id": "5df2f86c691f"
      },
      "outputs": [],
      "source": [
        "import os\n",
        "\n",
        "os.environ[\"TAVILY_API_KEY\"] = \"YOUR_API_KEY_HERE\""
      ]
    },
    {
      "cell_type": "code",
      "execution_count": 3,
      "metadata": {
        "id": "e00844b64cf7"
      },
      "outputs": [],
      "source": [
        "# If your API Keys are in Colab Secrets\n",
        "import sys\n",
        "import os\n",
        "\n",
        "if \"google.colab\" in sys.modules:\n",
        "    from google.colab import userdata\n",
        "\n",
        "    os.environ[\"TAVILY_API_KEY\"] = userdata.get(\"TAVILY_API_KEY\")"
      ]
    },
    {
      "cell_type": "markdown",
      "metadata": {
        "id": "0781fd4c9001"
      },
      "source": [
        "### Configure Gemini Developer API\n",
        "\n",
        "Get API keys from [Google AI Studio](https://ai.google.dev/gemini-api/docs/api-key) and [Tavily](https://tavily.com/)."
      ]
    },
    {
      "cell_type": "code",
      "execution_count": null,
      "metadata": {
        "id": "f2d2ecd0e96d"
      },
      "outputs": [],
      "source": [
        "import os\n",
        "\n",
        "os.environ[\"GOOGLE_API_KEY\"] = \"YOUR_API_KEY_HERE\""
      ]
    },
    {
      "cell_type": "code",
      "execution_count": 55,
      "metadata": {
        "id": "nvuDx1V6buOQ"
      },
      "outputs": [],
      "source": [
        "# If your API Keys are in Colab Secrets\n",
        "import sys\n",
        "\n",
        "if \"google.colab\" in sys.modules:\n",
        "    from google.colab import userdata\n",
        "\n",
        "    os.environ[\"GOOGLE_API_KEY\"] = userdata.get(\"GOOGLE_API_KEY\")\n",
        "    os.environ[\"GROQ_API_KEY\"] = userdata.get(\"GROQ_API_KEY\")\n"
      ]
    },
    {
      "cell_type": "markdown",
      "metadata": {
        "id": "5ffb0f859dde"
      },
      "source": [
        "### Configure Vertex AI\n",
        "\n",
        "**Use a Google Cloud Project:** This requires enabling the Vertex AI API in your Google Cloud project.\n",
        "\n",
        "[Enable the Vertex AI API](https://console.cloud.google.com/flows/enableapi?apiid=aiplatform.googleapis.com)"
      ]
    },
    {
      "cell_type": "code",
      "execution_count": 5,
      "metadata": {
        "id": "885a3c84ddac"
      },
      "outputs": [],
      "source": [
        "import sys\n",
        "\n",
        "if \"google.colab\" in sys.modules:\n",
        "    from google.colab import auth\n",
        "\n",
        "    auth.authenticate_user()"
      ]
    },
    {
      "cell_type": "code",
      "execution_count": 6,
      "metadata": {
        "id": "c80118166880"
      },
      "outputs": [],
      "source": [
        "PROJECT_ID = \"starscraper\"  # @param {type: \"string\", placeholder: \"[your-project-id]\", isTemplate: true}\n",
        "if not PROJECT_ID or PROJECT_ID == \"[your-project-id]\":\n",
        "    PROJECT_ID = str(os.environ.get(\"GOOGLE_CLOUD_PROJECT\"))\n",
        "\n",
        "LOCATION = os.environ.get(\"GOOGLE_CLOUD_REGION\", \"us-central1\")\n",
        "\n",
        "os.environ[\"GOOGLE_GENAI_USE_VERTEXAI\"] = \"true\""
      ]
    },
    {
      "cell_type": "markdown",
      "metadata": {
        "id": "EdvJRUWRNGHE"
      },
      "source": [
        "## Generating Essays Using a Zero-Shot Approach with the Gemini API\n",
        "\n",
        "With just a single call to the `generate_content` method, users can create detailed, structured essays on any topic by leveraging state-of-the-art language models such as Gemini 1.5 Pro or Gemini 1.5 Flash.\n",
        "\n",
        "<img src=\"https://github.com/GoogleCloudPlatform/generative-ai/blob/main/workshops/ai-agents/1-prompt-essay.png?raw=1\" width=\"350px\">"
      ]
    },
    {
      "cell_type": "markdown",
      "metadata": {
        "id": "5303c05f7aa6"
      },
      "source": [
        "### Import libraries"
      ]
    },
    {
      "cell_type": "code",
      "execution_count": 7,
      "metadata": {
        "id": "6fc324893334"
      },
      "outputs": [],
      "source": [
        "from IPython.display import Markdown, display"
      ]
    },
    {
      "cell_type": "markdown",
      "metadata": {
        "id": "4631829d00c8"
      },
      "source": [
        "### Create Client"
      ]
    },
    {
      "cell_type": "code",
      "execution_count": 8,
      "metadata": {
        "id": "898c62c59d40"
      },
      "outputs": [],
      "source": [
        "from google import genai\n",
        "\n",
        "client = genai.Client()"
      ]
    },
    {
      "cell_type": "markdown",
      "metadata": {
        "id": "4b87f1f593d5"
      },
      "source": [
        "Verify which API you are using."
      ]
    },
    {
      "cell_type": "code",
      "execution_count": 9,
      "metadata": {
        "id": "84c16a5f3f33",
        "outputId": "161d7eac-d600-4a7f-f828-918f0cb2fbb8",
        "colab": {
          "base_uri": "https://localhost:8080/"
        }
      },
      "outputs": [
        {
          "output_type": "stream",
          "name": "stdout",
          "text": [
            "Using Vertex AI in express mode with API key: AIzaS...uWJxQ\n"
          ]
        }
      ],
      "source": [
        "if not client.vertexai:\n",
        "    print(f\"Using Gemini Developer API.\")\n",
        "elif client._api_client.project:\n",
        "    print(\n",
        "        f\"Using Vertex AI with project: {client._api_client.project} in location: {client._api_client.location}\"\n",
        "    )\n",
        "elif client._api_client.api_key:\n",
        "    print(\n",
        "        f\"Using Vertex AI in express mode with API key: {client._api_client.api_key[:5]}...{client._api_client.api_key[-5:]}\"\n",
        "    )"
      ]
    },
    {
      "cell_type": "markdown",
      "metadata": {
        "id": "e43229f3ad4f"
      },
      "source": [
        "### Load model"
      ]
    },
    {
      "cell_type": "code",
      "execution_count": 10,
      "metadata": {
        "id": "cf93d5f0ce00"
      },
      "outputs": [],
      "source": [
        "MODEL_ID = \"gemini-2.0-pro-exp-02-05\""
      ]
    },
    {
      "cell_type": "markdown",
      "metadata": {
        "id": "bbcd4f57190f"
      },
      "source": [
        "### Make an API call to generate the essay"
      ]
    },
    {
      "cell_type": "markdown",
      "metadata": {
        "id": "520e23ea4332"
      },
      "source": [
        "---\n",
        "\n",
        "However, what if we ask the model to write an essay about an event that happened more recently and the LLM doesn't inherently know about that event?"
      ]
    },
    {
      "cell_type": "markdown",
      "metadata": {
        "id": "764ce71aecd5"
      },
      "source": [
        "In this case, the model had no information about these recent events and was unable to write an effective essay."
      ]
    },
    {
      "cell_type": "markdown",
      "metadata": {
        "id": "16aafc60d80b"
      },
      "source": [
        "## Generating Essays Using a Step-by-Step Approach With LangChain\n",
        "\n",
        "This step demonstrates how to build an essay-writing pipeline using [LangChain](https://www.langchain.com/), the [Gemini API in Google AI Studio](https://ai.google.dev/gemini-api/docs), and [Tavily](https://tavily.com/) for search.\n",
        "\n",
        "By combining these tools, we create a seamless workflow that plans an essay outline, performs web searches for relevant information, and generates a complete essay draft based on the collected data.\n",
        "\n",
        "This solution showcases the power of chaining LLM models and external tools to tackle complex tasks with minimal human intervention, providing a robust approach to automated content generation.\n",
        "\n",
        "<img src=\"https://github.com/GoogleCloudPlatform/generative-ai/blob/main/workshops/ai-agents/2-langchain-essay.png?raw=1\" width=\"550px\">\n"
      ]
    },
    {
      "cell_type": "markdown",
      "metadata": {
        "id": "85666976a359"
      },
      "source": [
        "### Import libraries"
      ]
    },
    {
      "cell_type": "code",
      "execution_count": 56,
      "metadata": {
        "id": "29d6e42d27ae"
      },
      "outputs": [],
      "source": [
        "from IPython.display import Markdown, display\n",
        "from langchain import LLMChain\n",
        "from langchain.prompts import ChatPromptTemplate\n",
        "from langchain_community.tools import TavilySearchResults\n",
        "from langchain_core.output_parsers import StrOutputParser\n",
        "from langchain_google_genai import ChatGoogleGenerativeAI\n",
        "from langchain_google_vertexai import ChatVertexAI\n",
        "from langchain_groq import ChatGroq"
      ]
    },
    {
      "cell_type": "markdown",
      "metadata": {
        "id": "43392590b1d8"
      },
      "source": [
        "### Initialize Gemini model & search tool"
      ]
    },
    {
      "cell_type": "markdown",
      "metadata": {
        "id": "7ee8707e1867"
      },
      "source": [
        "### Define prompt templates and Runnables"
      ]
    },
    {
      "cell_type": "code",
      "execution_count": 14,
      "metadata": {
        "id": "a09a6a6d1f36"
      },
      "outputs": [],
      "source": [
        "# Planning: Create an outline for the essay\n",
        "outline_template = ChatPromptTemplate.from_template(\n",
        "    \"Create a detailed outline for an essay on {topic}\"\n",
        ")\n",
        "\n",
        "\n",
        "# Research: Web search\n",
        "def research_fn(topic):\n",
        "    response = tavily_tool.invoke({\"query\": topic})\n",
        "    return \"\\n\".join([f\"- {result['content']}\" for result in response])\n",
        "\n",
        "\n",
        "# Writing: Write the essay based on outline and research\n",
        "writing_template = ChatPromptTemplate.from_template(\n",
        "    \"Based on the following outline and research, write a 3-paragraph essay on '{topic}':\\n\\nOutline:\\n{outline}\\n\\nResearch:\\n{research}\\n\\nEssay:\"\n",
        ")"
      ]
    },
    {
      "cell_type": "markdown",
      "metadata": {
        "id": "9a18006523f7"
      },
      "source": [
        "### Define the Runnable Chain using [LangChain Expression Language (LCEL)](https://python.langchain.com/docs/how_to/#langchain-expression-language-lcel)"
      ]
    },
    {
      "cell_type": "code",
      "source": [
        "# In a cell before this one, make sure to import genai and initialize client\n",
        "from google import genai\n",
        "\n",
        "client = genai.Client()\n",
        "\n",
        "\n",
        "MODEL_ID = \"gemini-2.0-pro-exp-02-05\"\n",
        "prompt = \"Write a 3-paragraph essay about the impacts of Hurricane Helene and Hurricane Milton in 2024.\""
      ],
      "metadata": {
        "id": "vuxY3rte0Mrw"
      },
      "execution_count": 22,
      "outputs": []
    },
    {
      "cell_type": "code",
      "source": [
        "#model = ChatGoogleGenerativeAI(model=MODEL_ID, temperature=0)\n",
        "#model = ChatGroq(temperature=0, model_name=\"llama-3.3-70b-versatile\")\n",
        "tavily_tool = TavilySearchResults(max_results=5)"
      ],
      "metadata": {
        "id": "u6s6WqIH0Ynh"
      },
      "execution_count": 78,
      "outputs": []
    },
    {
      "cell_type": "markdown",
      "metadata": {
        "id": "839fc48dd408"
      },
      "source": [
        "### Generate the essay"
      ]
    },
    {
      "cell_type": "code",
      "source": [
        "from langchain.chains import LLMChain\n",
        "from langchain.prompts import PromptTemplate\n",
        "from langchain_google_genai import ChatGoogleGenerativeAI\n",
        "from langchain_groq import ChatGroq\n",
        "from langchain.schema.output_parser import StrOutputParser\n",
        "from langchain.schema.runnable import RunnablePassthrough\n",
        "\n",
        "# Initialize both models\n",
        "google_model = ChatGoogleGenerativeAI(model=MODEL_ID, temperature=0)\n",
        "groq_model = ChatGroq(model_name=\"llama-3.3-70b-versatile\", temperature=0)\n",
        "\n",
        "# Create primary and backup chains\n",
        "primary_outline_chain = LLMChain(llm=google_model, prompt=outline_template)\n",
        "backup_outline_chain = LLMChain(llm=groq_model, prompt=outline_template)\n",
        "\n",
        "primary_writing_chain = LLMChain(llm=google_model, prompt=writing_template)\n",
        "backup_writing_chain = LLMChain(llm=groq_model, prompt=writing_template)\n",
        "\n",
        "# Create fallback chains using the RunnableBranch approach\n",
        "outline_chain = primary_outline_chain.with_fallbacks([backup_outline_chain])\n",
        "writing_chain = primary_writing_chain.with_fallbacks([backup_writing_chain])\n",
        "\n",
        "# Use the pipe operator to combine chains\n",
        "chain = (\n",
        "    outline_chain\n",
        "    | (\n",
        "        lambda result: {\n",
        "            \"topic\": result[\"topic\"],\n",
        "            \"outline\": result[\"text\"],\n",
        "            \"research\": research_fn(result[\"topic\"]),\n",
        "        }\n",
        "    )\n",
        "    | writing_chain\n",
        "    | (lambda result: result[\"text\"])  # Extract the essay text from the final result\n",
        "    | StrOutputParser()\n",
        ")"
      ],
      "metadata": {
        "id": "QPp1OchQLdr3"
      },
      "execution_count": 100,
      "outputs": []
    },
    {
      "cell_type": "code",
      "execution_count": 77,
      "metadata": {
        "id": "a76f80ceec98",
        "outputId": "746a2eef-c935-4d27-a1e6-1f7ca9b04f29",
        "colab": {
          "base_uri": "https://localhost:8080/",
          "height": 440
        }
      },
      "outputs": [
        {
          "output_type": "display_data",
          "data": {
            "text/plain": [
              "<IPython.core.display.Markdown object>"
            ],
            "text/markdown": "The 2024 hurricane season was marked by two devastating storms, Hurricane Helene and Hurricane Milton, which brought widespread destruction and disruption to communities in the United States. Hurricane Helene, a large and catastrophic tropical cyclone, made landfall in northwestern Florida on September 26, 2024, and went on to affect several states, including Tennessee, Georgia, and North Carolina. The storm's high winds and flooding resulted in the loss of over 230 lives, making it the deadliest hurricane to strike the U.S. since Hurricane Maria in 2017. Hurricane Milton, which made landfall on October 9, 2024, also caused significant damage and disruption, with over 3 million customers losing power and around 150 tornado warnings being issued.\n\nThe impacts of Hurricane Helene and Hurricane Milton were far-reaching and multifaceted. In addition to the loss of life, the storms caused extensive damage to infrastructure, including buildings, roads, and bridges. The flooding and storm surges associated with the storms contaminated wells, damaged homes, and disrupted communication systems. The human impacts of the storms were also significant, with many people forced to evacuate their homes and seek shelter elsewhere. The economic losses caused by the storms were substantial, with estimates suggesting that both Hurricane Helene and Hurricane Milton will be $50 billion disasters, ranking among the most costly storms in history. The storms also had a significant impact on the environment, with experts warning that the region must improve its disaster preparedness and mitigation measures to reduce the risk of similar disasters in the future.\n\nIn the aftermath of Hurricane Helene and Hurricane Milton, emergency relief efforts and aid distribution were critical in supporting affected communities. Long-term recovery and rebuilding efforts are ongoing, with a focus on restoring damaged infrastructure and supporting businesses and industries affected by the storms. The experiences of Hurricane Helene and Hurricane Milton serve as a reminder of the importance of preparedness and mitigation measures in reducing the impacts of future hurricanes. As the world continues to grapple with the challenges of climate-related disasters, it is essential that we learn from the lessons of these storms and work towards building more resilient and sustainable communities. By doing so, we can reduce the risk of similar disasters in the future and create a safer and more secure environment for all."
          },
          "metadata": {}
        }
      ],
      "source": [
        "essay = chain.invoke({\"topic\": prompt})\n",
        "display(Markdown(essay))"
      ]
    },
    {
      "cell_type": "markdown",
      "metadata": {
        "id": "294d3b7c43b2"
      },
      "source": [
        "## Generating Essays Using an Iterative, AI-Agent Approach with LangGraph\n",
        "\n",
        "This section demonstrates how to build a [LangGraph](https://langchain-ai.github.io/langgraph/)-powered AI agent to generate, revise, and critique essays using large language models such as Google's [Gemini API in Google AI Studio](https://ai.google.dev/gemini-api/docs) or the [Gemini API in Vertex AI](https://cloud.google.com/vertex-ai/generative-ai/docs/multimodal/overview). The LangGraph code was adapted from the awesome DeepLearning.AI course on [AI Agents in LangGraph](https://www.deeplearning.ai/short-courses/ai-agents-in-langgraph/).\n",
        "\n",
        "By defining a structured state flow with nodes such as \"Planner,\" \"Research Plan,\" \"Generate,\" \"Reflect,\" and \"Research Critique,\" the system iteratively creates an essay on a given topic, incorporates feedback, and provides research-backed insights.\n",
        "\n",
        "<img src=\"https://github.com/GoogleCloudPlatform/generative-ai/blob/main/workshops/ai-agents/3-langgraph-essay.png?raw=1\" width=\"900px\">\n",
        "\n",
        "The workflow enables automated essay generation with revision controls, making it ideal for structured writing tasks or educational use cases. Additionally, the notebook uses external search tools to gather and integrate real-time information into the essay content."
      ]
    },
    {
      "cell_type": "markdown",
      "metadata": {
        "id": "f8e41763086f"
      },
      "source": [
        "### Import libraries"
      ]
    },
    {
      "cell_type": "code",
      "execution_count": 60,
      "metadata": {
        "id": "52fbe2cb7be7"
      },
      "outputs": [],
      "source": [
        "from typing import TypedDict\n",
        "\n",
        "# Common libraries\n",
        "from IPython.display import Image, Markdown, display\n",
        "\n",
        "# LangChain and LangGraph components\n",
        "from langchain_core.messages import HumanMessage, SystemMessage\n",
        "\n",
        "# LangChain integrations for Gemini API in Google AI Studio and Vertex AI\n",
        "from langchain_google_genai import ChatGoogleGenerativeAI\n",
        "from langchain_google_vertexai import ChatVertexAI\n",
        "from langgraph.checkpoint.memory import MemorySaver\n",
        "from langgraph.graph import END, StateGraph\n",
        "\n",
        "# Typing utilities for data validation and schema definitions\n",
        "from pydantic.v1 import BaseModel\n",
        "\n",
        "# Tavily client for performing web searches\n",
        "from tavily import TavilyClient\n",
        "\n",
        "import time\n",
        "import google"
      ]
    },
    {
      "cell_type": "markdown",
      "metadata": {
        "id": "fc6ae1fac44f"
      },
      "source": [
        "### Initialize agent memory, agent state, and schema for search queries"
      ]
    },
    {
      "cell_type": "code",
      "execution_count": 61,
      "metadata": {
        "id": "6b92f7bab46d"
      },
      "outputs": [],
      "source": [
        "# Initialize agent memory\n",
        "memory = MemorySaver()\n",
        "\n",
        "\n",
        "# Define the agent's state\n",
        "class AgentState(TypedDict):\n",
        "    task: str\n",
        "    plan: str\n",
        "    draft: str\n",
        "    critique: str\n",
        "    content: list[str]\n",
        "    revision_number: int\n",
        "    max_revisions: int\n",
        "\n",
        "\n",
        "# Define a schema for search queries\n",
        "class Queries(BaseModel):\n",
        "    \"\"\"Variants of query to search for\"\"\"\n",
        "\n",
        "    queries: list[str]"
      ]
    },
    {
      "cell_type": "markdown",
      "metadata": {
        "id": "d9660e58afab"
      },
      "source": [
        "### Initialize Gemini model and search tool\n",
        "\n",
        "Remember to set the environment variables `GOOGLE_API_KEY` and `TAVILY_API_KEY`. And configure credentials for Vertex AI if you switch to it."
      ]
    },
    {
      "cell_type": "code",
      "execution_count": 62,
      "metadata": {
        "id": "ec96b00bb67f"
      },
      "outputs": [],
      "source": [
        "\n",
        "# Initialize Tavily client for performing web searches\n",
        "tavily = TavilyClient()"
      ]
    },
    {
      "cell_type": "markdown",
      "metadata": {
        "id": "d94dc64d3846"
      },
      "source": [
        "### Define prompt templates for each stage"
      ]
    },
    {
      "cell_type": "code",
      "execution_count": 28,
      "metadata": {
        "id": "2cc6f9b05d29"
      },
      "outputs": [],
      "source": [
        "PLAN_PROMPT = \"\"\"You are an expert writer tasked with writing a high level outline of an essay.\n",
        "Write such an outline for the user provided topic. Give an outline of the essay along with any\n",
        "relevant notes or instructions for the sections.\"\"\"\n",
        "\n",
        "WRITER_PROMPT = \"\"\"You are an essay assistant tasked with writing excellent 3-paragraph essays.\n",
        "Generate the best essay possible for the user's request and the initial outline.\n",
        "If the user provides critique, respond with a revised version of your previous attempts.\n",
        "Use Markdown formatting to specify a title and section headers for each paragraph.\n",
        "Utilize all of the information below as needed:\n",
        "---\n",
        "{content}\"\"\"\n",
        "\n",
        "REFLECTION_PROMPT = \"\"\"You are a teacher grading an essay submission.\n",
        "Generate critique and recommendations for the user's submission.\n",
        "Provide detailed recommendations, including requests for length, depth, style, etc.\"\"\"\n",
        "\n",
        "RESEARCH_PLAN_PROMPT = \"\"\"You are a researcher charged with providing information that can\n",
        "be used when writing the following essay. Generate a list of search queries that will gather\n",
        "any relevant information. Only generate 3 queries max.\"\"\"\n",
        "\n",
        "RESEARCH_CRITIQUE_PROMPT = \"\"\"You are a researcher charged with providing information that can\n",
        "be used when making any requested revisions (as outlined below).\n",
        "Generate a list of search queries that will gather any relevant information.\n",
        "Only generate 3 queries max.\"\"\""
      ]
    },
    {
      "cell_type": "markdown",
      "source": [
        "## Utility functions"
      ],
      "metadata": {
        "id": "jhxaAQv9XYdJ"
      }
    },
    {
      "cell_type": "code",
      "source": [
        "import re\n",
        "def extract_entities(text):\n",
        "    \"\"\"Extract key entities from model output text\"\"\"\n",
        "    # Split the text into lines and filter out empty lines\n",
        "    lines = [line.strip() for line in text.split('\\n') if line.strip()]\n",
        "\n",
        "    # Look for patterns like lists, bullet points, or numbered items\n",
        "    entities = []\n",
        "    for line in lines:\n",
        "        # Remove common list markers\n",
        "        clean_line = line.lstrip('•-*#0123456789.)')\n",
        "        clean_line = clean_line.strip()\n",
        "        if clean_line:\n",
        "            entities.append(clean_line)\n",
        "\n",
        "    # If no structured list is found, use basic text splitting\n",
        "    if not entities:\n",
        "        # Split by commas, semicolons, or periods\n",
        "        for part in re.split(r'[,;.]', text):\n",
        "            part = part.strip()\n",
        "            if part and len(part) > 3:  # Avoid very short fragments\n",
        "                entities.append(part)\n",
        "\n",
        "    return entities\n",
        "\n",
        "def parse_claims(claims_text):\n",
        "    \"\"\"Extract individual claims from model-generated text\"\"\"\n",
        "    # Split text by newlines and bullet points\n",
        "    raw_claims = re.split(r'\\n|•|\\*|\\d+\\.', claims_text)\n",
        "\n",
        "    # Clean up each claim\n",
        "    claims = []\n",
        "    for claim in raw_claims:\n",
        "        claim = claim.strip()\n",
        "        if claim and len(claim) > 10:  # Avoid fragments\n",
        "            # Remove phrases like \"Claim:\" or \"Fact:\"\n",
        "            claim = re.sub(r'^(Claim|Fact|Statement):\\s*', '', claim, flags=re.IGNORECASE)\n",
        "            claims.append(claim)\n",
        "\n",
        "    return claims\n",
        "\n",
        "def extract_score(evaluation_text):\n",
        "    \"\"\"Extract a numerical credibility score from evaluation text\"\"\"\n",
        "    # Look for patterns like \"Score: 7/10\" or \"Credibility: 4 out of 5\"\n",
        "    score_pattern = r'(\\d+)(?:\\s*\\/\\s*|\\s+out\\s+of\\s+)(\\d+)'\n",
        "    match = re.search(score_pattern, evaluation_text)\n",
        "\n",
        "    if match:\n",
        "        score, scale = int(match.group(1)), int(match.group(2))\n",
        "        # Normalize to 0-100 scale\n",
        "        return (score / scale) * 100\n",
        "\n",
        "    # If no explicit score, do sentiment analysis on key phrases\n",
        "    positive_indicators = ['credible', 'reliable', 'authoritative', 'trustworthy', 'reputable']\n",
        "    negative_indicators = ['unreliable', 'questionable', 'biased', 'unverified', 'misleading']\n",
        "\n",
        "    score = 50  # Neutral starting point\n",
        "    for word in positive_indicators:\n",
        "        if word in evaluation_text.lower():\n",
        "            score += 10\n",
        "    for word in negative_indicators:\n",
        "        if word in evaluation_text.lower():\n",
        "            score -= 10\n",
        "\n",
        "    return max(0, min(100, score))  # Clamp between 0-100\n",
        "\n",
        "def parse_opportunities(visual_text):\n",
        "    \"\"\"Extract visual opportunity suggestions from text\"\"\"\n",
        "    # Split by numbered or bulleted items\n",
        "    opportunities = re.split(r'\\n\\s*\\d+\\.|\\n\\s*•|\\n\\s*\\*', visual_text)\n",
        "\n",
        "    # Clean up and filter\n",
        "    return [opp.strip() for opp in opportunities if opp.strip() and len(opp.strip()) > 10]\n",
        "\n",
        "def determine_visual_type(spec_text):\n",
        "    \"\"\"Determine the most appropriate visual type from specification text\"\"\"\n",
        "    visual_types = {\n",
        "        'chart': ['comparison', 'trend', 'distribution', 'percentage', 'growth', 'decline'],\n",
        "        'map': ['location', 'geographic', 'regional', 'spatial', 'area', 'territory'],\n",
        "        'timeline': ['chronological', 'sequence', 'history', 'progression', 'development'],\n",
        "        'diagram': ['process', 'flow', 'relationship', 'structure', 'organization', 'hierarchy'],\n",
        "        'infographic': ['statistics', 'facts', 'overview', 'summary', 'highlights']\n",
        "    }\n",
        "\n",
        "    # Count matches for each type\n",
        "    scores = {v_type: 0 for v_type in visual_types}\n",
        "\n",
        "    for v_type, keywords in visual_types.items():\n",
        "        for keyword in keywords:\n",
        "            if keyword.lower() in spec_text.lower():\n",
        "                scores[v_type] += 1\n",
        "\n",
        "    # Get the type with highest score\n",
        "    max_score = max(scores.values())\n",
        "    if max_score == 0:\n",
        "        return \"chart\"  # Default\n",
        "\n",
        "    # Return the type with highest score\n",
        "    return max(scores.items(), key=lambda x: x[1])[0]\n",
        "\n",
        "def extract_title(spec_text):\n",
        "    \"\"\"Extract a suitable title for the visual from specification text\"\"\"\n",
        "    # Look for explicit title patterns\n",
        "    title_patterns = [\n",
        "        r'Title:\\s*\"([^\"]+)\"',\n",
        "        r'Title:\\s*(.+?)(?:\\n|$)',\n",
        "        r'titled\\s*\"([^\"]+)\"',\n",
        "        r'titled\\s*(.+?)(?:\\n|$)'\n",
        "    ]\n",
        "\n",
        "    for pattern in title_patterns:\n",
        "        match = re.search(pattern, spec_text)\n",
        "        if match:\n",
        "            return match.group(1).strip()\n",
        "\n",
        "    # If no explicit title, extract the first sentence or phrase\n",
        "    first_line = spec_text.split('\\n')[0].strip()\n",
        "    if len(first_line) > 50:  # Too long for a title\n",
        "        first_line = first_line[:50].strip() + '...'\n",
        "\n",
        "    return first_line\n",
        "\n",
        "def extract_data_needs(spec_text):\n",
        "    \"\"\"Extract data requirements from the visual specification\"\"\"\n",
        "    data_indicators = [\n",
        "        r'Data needed:(.*?)(?:\\n\\n|\\Z)',\n",
        "        r'Data requirements:(.*?)(?:\\n\\n|\\Z)',\n",
        "        r'Required data:(.*?)(?:\\n\\n|\\Z)',\n",
        "        r'Data points:(.*?)(?:\\n\\n|\\Z)'\n",
        "    ]\n",
        "\n",
        "    for pattern in data_indicators:\n",
        "        match = re.search(pattern, spec_text, re.DOTALL)\n",
        "        if match:\n",
        "            data_text = match.group(1).strip()\n",
        "            # Split into list items if it looks like a list\n",
        "            if '\\n' in data_text:\n",
        "                return [item.strip().lstrip('-•*') for item in data_text.split('\\n') if item.strip()]\n",
        "            return [data_text]\n",
        "\n",
        "    # If no explicit data section, look for data-related terms\n",
        "    data_related = []\n",
        "    sentences = re.split(r'[.!?]\\s+', spec_text)\n",
        "    for sentence in sentences:\n",
        "        if any(term in sentence.lower() for term in ['data', 'statistics', 'numbers', 'figures', 'metrics']):\n",
        "            data_related.append(sentence.strip())\n",
        "\n",
        "    return data_related if data_related else [\"No specific data requirements identified\"]\n",
        "\n",
        "def detect_style_preference(task_text):\n",
        "    \"\"\"Detect preferred writing style from task description\"\"\"\n",
        "    style_indicators = {\n",
        "        'academic': ['research', 'scholarly', 'academic', 'thesis', 'dissertation', 'analysis'],\n",
        "        'journalistic': ['news', 'article', 'report', 'coverage', 'journalism'],\n",
        "        'analytical': ['analyze', 'evaluate', 'assess', 'implications', 'critical'],\n",
        "        'narrative': ['story', 'narrative', 'experience', 'personal', 'journey']\n",
        "    }\n",
        "\n",
        "    scores = {style: 0 for style in style_indicators}\n",
        "\n",
        "    for style, keywords in style_indicators.items():\n",
        "        for keyword in keywords:\n",
        "            if keyword.lower() in task_text.lower():\n",
        "                scores[style] += 1\n",
        "\n",
        "    max_score = max(scores.values())\n",
        "    if max_score == 0:\n",
        "        return None  # No clear preference detected\n",
        "\n",
        "    # Return style with highest score\n",
        "    return max(scores.items(), key=lambda x: x[1])[0]\n",
        "\n",
        "def detect_audience(task_text):\n",
        "    \"\"\"Detect target audience from task description\"\"\"\n",
        "    audience_indicators = {\n",
        "        'general': ['general', 'public', 'audience', 'readers', 'people'],\n",
        "        'expert': ['expert', 'specialist', 'professional', 'advanced', 'technical'],\n",
        "        'student': ['student', 'educational', 'classroom', 'learning', 'teaching'],\n",
        "        'business': ['business', 'executive', 'management', 'corporate', 'stakeholder']\n",
        "    }\n",
        "\n",
        "    scores = {audience: 0 for audience in audience_indicators}\n",
        "\n",
        "    for audience, keywords in audience_indicators.items():\n",
        "        for keyword in keywords:\n",
        "            if keyword.lower() in task_text.lower():\n",
        "                scores[audience] += 1\n",
        "\n",
        "    max_score = max(scores.values())\n",
        "    if max_score == 0:\n",
        "        return None  # No clear audience detected\n",
        "\n",
        "    # Return audience with highest score\n",
        "    return max(scores.items(), key=lambda x: x[1])[0]\n",
        "\n",
        "def determine_structure(analysis_text):\n",
        "    \"\"\"Determine optimal essay structure based on analysis text\"\"\"\n",
        "    structure_indicators = {\n",
        "        'chronological': ['timeline', 'history', 'evolution', 'progression', 'over time', 'chronological'],\n",
        "        'compare-contrast': ['comparison', 'contrast', 'differences', 'similarities', 'versus', 'both'],\n",
        "        'problem-solution': ['problem', 'solution', 'challenge', 'resolve', 'address', 'overcome'],\n",
        "        'cause-effect': ['cause', 'effect', 'result', 'impact', 'consequence', 'led to'],\n",
        "        'thesis-antithesis-synthesis': ['argument', 'counterargument', 'thesis', 'antithesis', 'synthesis', 'dialectic']\n",
        "    }\n",
        "\n",
        "    scores = {structure: 0 for structure in structure_indicators}\n",
        "\n",
        "    for structure, keywords in structure_indicators.items():\n",
        "        for keyword in keywords:\n",
        "            if keyword.lower() in analysis_text.lower():\n",
        "                scores[structure] += 1\n",
        "\n",
        "    max_score = max(scores.values())\n",
        "    if max_score == 0:\n",
        "        return 'thesis-antithesis-synthesis'  # Default to a common structure\n",
        "\n",
        "    # Return structure with highest score\n",
        "    return max(scores.items(), key=lambda x: x[1])[0]"
      ],
      "metadata": {
        "id": "N-C5RcysXX2b"
      },
      "execution_count": 84,
      "outputs": []
    },
    {
      "cell_type": "markdown",
      "metadata": {
        "id": "c4f51c668222"
      },
      "source": [
        "### Define node functions for each stage"
      ]
    },
    {
      "cell_type": "code",
      "execution_count": 114,
      "metadata": {
        "id": "75c8d7021369"
      },
      "outputs": [],
      "source": [
        "# Generate an outline for the essay\n",
        "# Initialize both models\n",
        "import json\n",
        "google_model = ChatGoogleGenerativeAI(model=MODEL_ID, temperature=0)\n",
        "groq_model = ChatGroq(model_name=\"qwen-qwq-32b\", temperature=0)\n",
        "\n",
        "# Create a model with fallback\n",
        "model = groq_model.with_fallbacks([google_model])\n",
        "\n",
        "def plan_node(state: AgentState):\n",
        "    try:\n",
        "        messages = [SystemMessage(content=PLAN_PROMPT), HumanMessage(content=state[\"task\"])]\n",
        "        response = model.invoke(messages)\n",
        "        return {\"plan\": response.content}\n",
        "    except Exception as e:\n",
        "        print(f\"Error in plan_node: {e}\")\n",
        "        return {\"plan\": \"Default plan: Introduction, Body, Conclusion\"}\n",
        "\n",
        "\n",
        "# Conducts research based on the generated plan and web search results\n",
        "def research_plan_node(state: AgentState):\n",
        "    queries = model.with_structured_output(Queries).invoke(\n",
        "        [\n",
        "            SystemMessage(content=RESEARCH_PLAN_PROMPT),\n",
        "            HumanMessage(content=state[\"task\"]),\n",
        "        ]\n",
        "    )\n",
        "    content = state[\"content\"] or []\n",
        "    for q in queries.queries:\n",
        "        # Added a sleep to avoid hitting rate limits\n",
        "        time.sleep(3)\n",
        "        response = tavily.search(query=q, max_results=2)\n",
        "        for r in response[\"results\"]:\n",
        "            content.append(r[\"content\"])\n",
        "    return {\"content\": content}\n",
        "\n",
        "\n",
        "# Generates a draft based on the content and plan\n",
        "def generation_node(state: AgentState):\n",
        "    content = \"\\n\\n\".join(state[\"content\"] or [])\n",
        "    user_message = HumanMessage(\n",
        "        content=f\"{state['task']}\\n\\nHere is my plan:\\n\\n{state['plan']}\"\n",
        "    )\n",
        "    messages = [\n",
        "        SystemMessage(content=WRITER_PROMPT.format(content=content)),\n",
        "        user_message,\n",
        "    ]\n",
        "        # Added a sleep to avoid hitting rate limits\n",
        "    time.sleep(3)\n",
        "    response = model.invoke(messages)\n",
        "    return {\n",
        "        \"draft\": response.content,\n",
        "        \"revision_number\": state.get(\"revision_number\", 1) + 1,\n",
        "    }\n",
        "\n",
        "\n",
        "# Provides feedback or critique on the draft\n",
        "def reflection_node(state: AgentState):\n",
        "    messages = [\n",
        "        SystemMessage(content=REFLECTION_PROMPT),\n",
        "        HumanMessage(content=state[\"draft\"]),\n",
        "    ]\n",
        "    try:\n",
        "              # Added a sleep to avoid hitting rate limits\n",
        "        time.sleep(3)\n",
        "        response = model.invoke(messages)\n",
        "    except Exception as e:\n",
        "        print(f\"Error encountered, using fallback mechanism: {e}\")\n",
        "        # The fallback will be handled automatically by the with_fallbacks mechanism\n",
        "        time.sleep(3)\n",
        "        response = model.invoke(messages)\n",
        "    return {\"critique\": response.content}\n",
        "\n",
        "\n",
        "# Conducts research based on the critique\n",
        "def research_critique_node(state: AgentState):\n",
        "    queries = model.with_structured_output(Queries).invoke(\n",
        "        [\n",
        "            SystemMessage(content=RESEARCH_CRITIQUE_PROMPT),\n",
        "            HumanMessage(content=state[\"critique\"]),\n",
        "        ]\n",
        "    )\n",
        "    content = state[\"content\"] or []\n",
        "    for q in queries.queries:\n",
        "              # Added a sleep to avoid hitting rate limits\n",
        "        time.sleep(3)\n",
        "        response = tavily.search(query=q, max_results=1)\n",
        "        for r in response[\"results\"]:\n",
        "            content.append(r[\"content\"])\n",
        "    return {\"content\": content}\n",
        "\n",
        "\n",
        "# Determines whether the critique and research cycle should\n",
        "# continue based on the number of revisions\n",
        "def should_continue(state):\n",
        "    if state[\"revision_number\"] > state[\"max_revisions\"]:\n",
        "        return END\n",
        "    return \"reflect\"\n",
        "\n",
        "\n",
        "# Advanced research capabilities\n",
        "def advanced_research_node(state: AgentState):\n",
        "    # Extract key entities and concepts from the task/plan\n",
        "    entity_extraction = model.invoke([\n",
        "        SystemMessage(content=\"Extract key entities, concepts, and time periods from this text:\"),\n",
        "        HumanMessage(content=state[\"task\"] + \"\\n\" + state[\"plan\"])\n",
        "    ])\n",
        "\n",
        "    # Generate diverse query strategies (definitions, statistics, perspectives, etc.)\n",
        "    query_types = [\"factual overview\", \"statistics and data\", \"expert opinions\",\n",
        "                   \"opposing viewpoints\", \"historical context\", \"recent developments\"]\n",
        "\n",
        "    content = state[\"content\"] or []\n",
        "    entities = extract_entities(entity_extraction.content)\n",
        "\n",
        "    for entity in entities:\n",
        "        for query_type in query_types:\n",
        "            query = f\"{entity} {query_type}\"\n",
        "            response = tavily.search(query=query, max_results=1)\n",
        "            for r in response[\"results\"]:\n",
        "                content.append({\n",
        "                    \"content\": r[\"content\"],\n",
        "                    \"source\": r[\"url\"],\n",
        "                    \"query_type\": query_type,\n",
        "                    \"entity\": entity\n",
        "                })\n",
        "\n",
        "    return {\"content\": content}\n",
        "\n",
        "# Fact checking and Citation Integration\n",
        "def fact_check_node(state: AgentState):\n",
        "    # Extract claims from the draft\n",
        "    claims_extraction = model.invoke([\n",
        "        SystemMessage(content=\"Extract all factual claims from this essay:\"),\n",
        "        HumanMessage(content=state[\"draft\"])\n",
        "    ])\n",
        "\n",
        "    claims = parse_claims(claims_extraction.content)\n",
        "    verified_claims = []\n",
        "\n",
        "    for claim in claims:\n",
        "        # Search for evidence\n",
        "        evidence = tavily.search(query=claim, max_results=1)\n",
        "\n",
        "        # Evaluate if the claim is supported by evidence\n",
        "        verification = model.invoke([\n",
        "            SystemMessage(content=\"Determine if this claim is supported by the evidence provided:\"),\n",
        "            HumanMessage(content=f\"Claim: {claim}\\n\\nEvidence:\\n{json.dumps(evidence)}\")\n",
        "        ])\n",
        "\n",
        "        verified_claims.append({\n",
        "            \"claim\": claim,\n",
        "            \"verification\": verification.content,\n",
        "            \"sources\": [r[\"url\"] for r in evidence[\"results\"]]\n",
        "        })\n",
        "\n",
        "    return {\"fact_check\": verified_claims}\n",
        "\n",
        "# Multi perspective Analysis\n",
        "def perspective_analysis_node(state: AgentState):\n",
        "    perspectives = [\n",
        "        \"Economic impact perspective\",\n",
        "        \"Environmental perspective\",\n",
        "        \"Social impact perspective\",\n",
        "        \"Political perspective\",\n",
        "        \"Scientific perspective\"\n",
        "    ]\n",
        "\n",
        "    analysis = {}\n",
        "\n",
        "    for perspective in perspectives:\n",
        "        analysis[perspective] = model.invoke([\n",
        "            SystemMessage(content=f\"Analyze the topic from a {perspective}:\"),\n",
        "            HumanMessage(content=state[\"task\"])\n",
        "        ]).content\n",
        "\n",
        "    return {\"perspectives\": analysis}\n",
        "\n",
        "# Style and tone Adaptation\n",
        "def style_adaptation_node(state: AgentState):\n",
        "    try:\n",
        "        # Detect or request a style/tone preference\n",
        "        styles = {\n",
        "            \"academic\": \"Formal, structured, evidence-based with sophisticated vocabulary\",\n",
        "            \"journalistic\": \"Clear, factual, engaging with strong narrative flow\",\n",
        "            \"analytical\": \"Logical, methodical, focused on insights and implications\",\n",
        "            \"narrative\": \"Story-driven, vivid descriptions, emotional resonance\"\n",
        "        }\n",
        "\n",
        "        # Either detect from the task or use a default\n",
        "        style_name = detect_style_preference(state[\"task\"]) or \"academic\"\n",
        "        style_guide = styles[style_name]\n",
        "\n",
        "        return {\"style_preference\": style_name, \"style_guide\": style_guide}\n",
        "    except Exception as e:\n",
        "        print(f\"Error in style_adaptation_node: {e}\")\n",
        "        return {\"style_preference\": \"academic\", \"style_guide\": \"Formal, structured, evidence-based\"}\n",
        "\n",
        "def visual_planning_node(state: AgentState):\n",
        "    # Identify opportunities for visual elements\n",
        "    visual_opportunities = model.invoke([\n",
        "        SystemMessage(content=\"Identify 3-5 key points from this content that would benefit from visual representation (charts, maps, timelines, etc.):\"),\n",
        "        HumanMessage(content=state[\"draft\"])\n",
        "    ]).content\n",
        "\n",
        "    # Generate specifications for each visual\n",
        "    visual_specs = []\n",
        "    for opportunity in parse_opportunities(visual_opportunities):\n",
        "        spec = model.invoke([\n",
        "            SystemMessage(content=\"Create a detailed specification for a visual element:\"),\n",
        "            HumanMessage(content=f\"Topic: {opportunity}\")\n",
        "        ]).content\n",
        "\n",
        "        visual_specs.append({\n",
        "            \"type\": determine_visual_type(spec),\n",
        "            \"title\": extract_title(spec),\n",
        "            \"description\": spec,\n",
        "            \"data_needed\": extract_data_needs(spec)\n",
        "        })\n",
        "\n",
        "    return {\"visual_elements\": visual_specs}\n",
        "\n",
        "\n",
        "# Adaptive learning from user feedback\n",
        "def feedback_integration_node(state: AgentState, user_feedback=None):\n",
        "    if not user_feedback:\n",
        "        return state\n",
        "\n",
        "    # Analyze feedback to identify improvement areas\n",
        "    feedback_analysis = model.invoke([\n",
        "        SystemMessage(content=\"Analyze this feedback and identify specific areas for improvement:\"),\n",
        "        HumanMessage(content=user_feedback)\n",
        "    ]).content\n",
        "\n",
        "    # Update the writing approach based on feedback\n",
        "    learning = model.invoke([\n",
        "        SystemMessage(content=\"Based on this feedback analysis, provide specific writing adjustments:\"),\n",
        "        HumanMessage(content=feedback_analysis)\n",
        "    ]).content\n",
        "\n",
        "    return {\"feedback_analysis\": feedback_analysis, \"writing_adjustments\": learning}\n",
        "\n",
        "# Ethical Consideration and Bias Detection\n",
        "def bias_detection_node(state: AgentState):\n",
        "    # Analyze content for potential biases\n",
        "    bias_analysis = model.invoke([\n",
        "        SystemMessage(content=\"Analyze this content for potential biases, one-sided perspectives, or ethical considerations:\"),\n",
        "        HumanMessage(content=state[\"draft\"])\n",
        "    ]).content\n",
        "\n",
        "    # Generate suggestions for addressing identified issues\n",
        "    if \"No significant bias detected\" not in bias_analysis:\n",
        "        bias_mitigation = model.invoke([\n",
        "            SystemMessage(content=\"Suggest specific revisions to address these potential biases:\"),\n",
        "            HumanMessage(content=bias_analysis)\n",
        "        ]).content\n",
        "\n",
        "        return {\"bias_analysis\": bias_analysis, \"bias_mitigation\": bias_mitigation}\n",
        "\n",
        "    return {\"bias_analysis\": \"No significant bias detected\"}\n",
        "\n",
        "# Audience Adaptation\n",
        "def audience_adaptation_node(state: AgentState):\n",
        "    try:\n",
        "        # Detect or define target audience characteristics\n",
        "        audiences = {\n",
        "            \"general\": \"Wide range of knowledge levels, diverse backgrounds\",\n",
        "            \"expert\": \"Specialized knowledge, familiar with technical terms\",\n",
        "            \"student\": \"Learning-focused, may need scaffolding of concepts\",\n",
        "            \"business\": \"Application-oriented, interested in implications\"\n",
        "        }\n",
        "\n",
        "        # Either detect from the task or use a default\n",
        "        audience_type = detect_audience(state[\"task\"]) or \"general\"\n",
        "        audience_profile = audiences[audience_type]\n",
        "\n",
        "        # Adapt content complexity and focus accordingly\n",
        "        adaptation_guide = model.invoke([\n",
        "            SystemMessage(content=f\"Create guidelines for adapting this content to a {audience_type} audience ({audience_profile}):\"),\n",
        "            HumanMessage(content=state[\"draft\"] if \"draft\" in state else state[\"task\"])\n",
        "        ]).content\n",
        "\n",
        "        return {\"audience_type\": audience_type, \"adaptation_guide\": adaptation_guide}\n",
        "    except Exception as e:\n",
        "        print(f\"Error in audience_adaptation_node: {e}\")\n",
        "        return {\"audience_type\": \"general\", \"adaptation_guide\": \"Focus on clarity and accessibility\"}\n",
        "\n",
        "\n",
        "# Dynamic Structure Adaptation\n",
        "def structure_optimization_node(state: AgentState):\n",
        "    # Analyze content to determine optimal structure\n",
        "    structure_analysis = model.invoke([\n",
        "        SystemMessage(content=\"Analyze this content and recommend the optimal essay structure:\"),\n",
        "        HumanMessage(content=\"\\n\".join(state[\"content\"]))\n",
        "    ]).content\n",
        "\n",
        "    # Generate a structural outline\n",
        "    structure_types = [\"chronological\", \"compare-contrast\", \"problem-solution\", \"cause-effect\", \"thesis-antithesis-synthesis\"]\n",
        "    recommended_structure = determine_structure(structure_analysis)\n",
        "\n",
        "    structure_template = model.invoke([\n",
        "        SystemMessage(content=f\"Create a detailed outline template for a {recommended_structure} essay structure:\"),\n",
        "        HumanMessage(content=state[\"task\"])\n",
        "    ]).content\n",
        "\n",
        "    return {\"recommended_structure\": recommended_structure, \"structure_template\": structure_template}\n",
        "\n",
        "# Source Quality Evaluation\n",
        "def source_evaluation_node(state: AgentState):\n",
        "    content = state[\"content\"]\n",
        "    evaluated_content = []\n",
        "\n",
        "    # Initialize the model inside the function\n",
        "    google_model = ChatGoogleGenerativeAI(model=MODEL_ID, temperature=0)\n",
        "    groq_model = ChatGroq(model_name=\"llama-3.3-70b-versatile\", temperature=0)\n",
        "    model = groq_model.with_fallbacks([google_model])\n",
        "\n",
        "    for item in content:\n",
        "        if isinstance(item, dict) and \"source\" in item:\n",
        "            # Evaluate source credibility\n",
        "            source_eval = model.invoke([\n",
        "                SystemMessage(content=\"Evaluate the credibility of this source based on its URL and content:\"),\n",
        "                HumanMessage(content=f\"URL: {item['source']}\\nContent: {item['content']}\")\n",
        "            ]).content\n",
        "\n",
        "            item[\"source_evaluation\"] = {\n",
        "                \"credibility_score\": extract_score(source_eval),\n",
        "                \"credibility_notes\": source_eval\n",
        "            }\n",
        "\n",
        "        evaluated_content.append(item)\n",
        "\n",
        "    # Filter or flag low-credibility sources\n",
        "    return {\"content\": evaluated_content}\n",
        "\n",
        "\n"
      ]
    },
    {
      "cell_type": "code",
      "source": [
        "import time\n",
        "\n",
        "def node_wrapper(func):\n",
        "    \"\"\"Wrapper to ensure node functions never return None\"\"\"\n",
        "    def wrapper(state):\n",
        "        try:\n",
        "            # Introduce a delay before each node execution\n",
        "            time.sleep(5)  # Adjust the delay as needed\n",
        "            result = func(state)\n",
        "            if result is None:\n",
        "                print(f\"WARNING: {func.__name__} returned None, using empty dict instead\")\n",
        "                return {}  # Return empty dict instead of None\n",
        "            return result\n",
        "        except Exception as e:\n",
        "            print(f\"ERROR in {func.__name__}: {e}\")\n",
        "            # Return empty dict to continue execution\n",
        "            return {}\n",
        "    return wrapper\n",
        "\n",
        "# Apply wrapper to all node functions\n",
        "planner = node_wrapper(plan_node)\n",
        "structure_optimizer = node_wrapper(structure_optimization_node)\n",
        "audience_adapter = node_wrapper(audience_adaptation_node)\n",
        "style_adapter = node_wrapper(style_adaptation_node)\n",
        "advanced_researcher = node_wrapper(advanced_research_node)\n",
        "#source_evaluator = node_wrapper(source_evaluation_node)\n",
        "perspective_analyzer = node_wrapper(perspective_analysis_node)\n",
        "generate = node_wrapper(generation_node)\n",
        "visual_planner = node_wrapper(visual_planning_node)\n",
        "reflect = node_wrapper(reflection_node)\n",
        "fact_checker = node_wrapper(fact_check_node)\n",
        "bias_detector = node_wrapper(bias_detection_node)\n",
        "research_critique = node_wrapper(research_critique_node)"
      ],
      "metadata": {
        "id": "D4E1CrWchWnp"
      },
      "execution_count": 111,
      "outputs": []
    },
    {
      "cell_type": "markdown",
      "metadata": {
        "id": "48569416595a"
      },
      "source": [
        "### Define and compile the graph"
      ]
    },
    {
      "cell_type": "code",
      "execution_count": 112,
      "metadata": {
        "id": "86567ad87aa2"
      },
      "outputs": [],
      "source": [
        "# Enhanced graph with new nodes\n",
        "builder = StateGraph(AgentState)\n",
        "\n",
        "# Planning phase\n",
        "builder.add_node(\"planner\", plan_node)\n",
        "builder.add_node(\"structure_optimizer\", structure_optimization_node)\n",
        "builder.add_node(\"audience_adapter\", audience_adaptation_node)\n",
        "builder.add_node(\"style_adapter\", style_adaptation_node)\n",
        "\n",
        "# Research phase\n",
        "builder.add_node(\"advanced_researcher\", advanced_research_node)\n",
        "#builder.add_node(\"source_evaluator\", source_evaluation_node)\n",
        "builder.add_node(\"perspective_analyzer\", perspective_analysis_node)\n",
        "\n",
        "# Generation phase\n",
        "builder.add_node(\"generate\", generation_node)\n",
        "builder.add_node(\"visual_planner\", visual_planning_node)\n",
        "\n",
        "# Evaluation phase\n",
        "builder.add_node(\"reflect\", reflection_node)\n",
        "builder.add_node(\"fact_checker\", fact_check_node)\n",
        "builder.add_node(\"bias_detector\", bias_detection_node)\n",
        "builder.add_node(\"research_critique\", research_critique_node)  # Added the missing node\n",
        "\n",
        "# Define the enhanced workflow\n",
        "builder.set_entry_point(\"planner\")\n",
        "\n",
        "# Planning workflow\n",
        "builder.add_edge(\"planner\", \"structure_optimizer\")\n",
        "builder.add_edge(\"structure_optimizer\", \"audience_adapter\")\n",
        "builder.add_edge(\"audience_adapter\", \"style_adapter\")\n",
        "builder.add_edge(\"style_adapter\", \"advanced_researcher\")\n",
        "\n",
        "# Research workflow\n",
        "builder.add_edge(\"advanced_researcher\", \"perspective_analyzer\")\n",
        "#builder.add_edge(\"source_evaluator\", \"perspective_analyzer\")\n",
        "builder.add_edge(\"perspective_analyzer\", \"generate\")\n",
        "\n",
        "# Generation and evaluation workflow\n",
        "builder.add_edge(\"generate\", \"visual_planner\")\n",
        "builder.add_edge(\"visual_planner\", \"fact_checker\")\n",
        "builder.add_edge(\"fact_checker\", \"bias_detector\")\n",
        "builder.add_edge(\"bias_detector\", \"reflect\")\n",
        "\n",
        "# Add conditional edges for task continuation or end\n",
        "builder.add_conditional_edges(\n",
        "    \"bias_detector\",\n",
        "    should_continue,\n",
        "    {END: END, \"reflect\": \"reflect\"}\n",
        ")\n",
        "\n",
        "# Revision loop\n",
        "builder.add_edge(\"reflect\", \"research_critique\")\n",
        "builder.add_edge(\"research_critique\", \"generate\")\n",
        "\n",
        "# Compile the enhanced graph\n",
        "enhanced_graph = builder.compile(checkpointer=memory)"
      ]
    },
    {
      "cell_type": "markdown",
      "metadata": {
        "id": "44d87b0a2052"
      },
      "source": [
        "### Show the compiled graph"
      ]
    },
    {
      "cell_type": "code",
      "execution_count": 107,
      "metadata": {
        "id": "9c3170874384",
        "outputId": "86cb6225-4ce8-4226-8be9-5ad1c6c09775",
        "colab": {
          "base_uri": "https://localhost:8080/",
          "height": 1000
        }
      },
      "outputs": [
        {
          "output_type": "execute_result",
          "data": {
            "image/png": "[encoded data removed]",
            "text/plain": [
              "<IPython.core.display.Image object>"
            ]
          },
          "metadata": {},
          "execution_count": 107
        }
      ],
      "source": [
        "Image(enhanced_graph.get_graph().draw_mermaid_png())"
      ]
    },
    {
      "cell_type": "markdown",
      "metadata": {
        "id": "c95bebc7e74c"
      },
      "source": [
        "### Run the agent - write on!"
      ]
    },
    {
      "cell_type": "code",
      "execution_count": 115,
      "metadata": {
        "id": "2a849843b454",
        "outputId": "f345e2c1-44b0-422a-96a4-50b6be9584ac",
        "colab": {
          "base_uri": "https://localhost:8080/",
          "height": 1000
        }
      },
      "outputs": [
        {
          "output_type": "display_data",
          "data": {
            "text/plain": [
              "<IPython.core.display.Markdown object>"
            ],
            "text/markdown": "# planner"
          },
          "metadata": {}
        },
        {
          "output_type": "display_data",
          "data": {
            "text/plain": [
              "<IPython.core.display.Markdown object>"
            ],
            "text/markdown": "\n<think>\nOkay, the user is asking about the impacts of Hurricane Helene and Hurricane Milton in 2024. First, I need to check if these hurricanes actually occurred in 2024. Wait, 2024 hasn't happened yet, so maybe they're hypothetical or from a fictional scenario. The user might be referring to a projected or speculative event, perhaps for a class assignment or a creative project. \n\nI should start by clarifying that since 2024 is in the future, the information isn't based on real events. But the user still wants an outline, so I'll proceed under the assumption that these are fictional hurricanes for the purpose of the essay. \n\nThe outline needs to cover both hurricanes, so I should structure it to compare and contrast their impacts. Maybe start with an introduction that sets the context of the fictional scenario. Then, separate sections for each hurricane, detailing their paths, intensity, and specific impacts like casualties, economic damage, environmental effects, and responses. \n\nIncluding a comparative analysis section would help highlight differences and similarities. Also, a section on lessons learned or future preparedness could be useful. The conclusion should summarize key points and reflect on the importance of disaster preparedness.\n\nI should also add notes to the user, advising them to use real data if possible, or to clearly state that the scenario is fictional. Maybe suggest including sources if they're using real historical data as a basis. Also, remind them to check the latest information since the user might have a typo in the year. \n\nWait, the user might have meant 2023 or another year. But since they specified 2024, I'll stick with that. Need to make sure the outline is balanced between the two hurricanes, ensuring each gets equal attention. Maybe include subsections for each impact category under each hurricane. \n\nAlso, environmental impacts could include things like deforestation, wildlife disruption, and long-term ecological changes. Economic impacts might involve infrastructure damage, business losses, and recovery costs. Human impacts would be casualties, displacement, and health issues. \n\nThe comparative analysis should look at factors like the regions affected, the timing of the hurricanes, and the effectiveness of the responses. Maybe one was better prepared than the other, leading to different outcomes. \n\nI should also mention in the notes that the user should verify the existence of these hurricanes and adjust the outline accordingly. If they're real, then the approach would be different, but since 2024 is future, it's safer to treat them as hypothetical. \n\nAlright, structuring the outline with clear headings and subpoints. Making sure each section flows logically from introduction to conclusion. Including notes to guide the user on how to develop each section, emphasizing the need for accurate data and proper citations.\n</think>\n\n### Essay Outline: The Impacts of Hurricane Helene and Hurricane Milton in 2024  \n\n---\n\n#### **I. Introduction**  \n- **Hook**: Briefly introduce the 2024 Atlantic hurricane season as an unusually active or notable year.  \n- **Context**: Mention that Hurricane Helene and Hurricane Milton were two of the most destructive storms of the season.  \n- **Thesis Statement**: While both hurricanes caused significant damage, their impacts varied in terms of geographic reach, human toll, economic consequences, and environmental effects.  \n\n---\n\n#### **II. Background on the Hurricanes**  \n1. **Hurricane Helene**  \n   - Formation and path: Origin, peak intensity (e.g., Category 4), and trajectory (e.g., Caribbean islands, U.S. East Coast).  \n   - Duration and landfall locations.  \n2. **Hurricane Milton**  \n   - Formation and path: Origin, peak intensity (e.g., Category 3), and trajectory (e.g., Gulf of Mexico, Central America).  \n   - Duration and landfall locations.  \n- **Key Difference**: Highlight contrasting paths (e.g., Helene affecting coastal urban areas, Milton impacting rural or less-developed regions).  \n\n---\n\n#### **III. Human and Social Impacts**  \n1. **Hurricane Helene**  \n   - Casualties and injuries.  \n   - Displacement of populations (e.g., evacuation orders, temporary shelters).  \n   - Social disruption (e.g., school closures, healthcare system strain).  \n2. **Hurricane Milton**  \n   - Casualties and injuries (possibly higher due to slower response in remote areas).  \n   - Displacement and challenges in evacuation (e.g., limited infrastructure).  \n   - Cultural impacts (e.g., damage to historical or culturally significant sites).  \n- **Comparison**: Contrast urban vs. rural vulnerability and response capabilities.  \n\n---\n\n#### **IV. Economic Impacts**  \n1. **Hurricane Helene**  \n   - Damage to infrastructure (e.g., flooded cities, destroyed homes, business closures).  \n   - Insurance claims and government aid (e.g., federal disaster relief).  \n   - Long-term economic ripple effects (e.g., tourism decline, supply chain disruptions).  \n2. **Hurricane Milton**  \n   - Agricultural losses (e.g., crop destruction in farming-dependent regions).  \n   - Limited insurance coverage in affected areas, leading to greater financial strain on communities.  \n   - Recovery challenges due to underfunded local governments.  \n- **Comparison**: Urban vs. rural economic resilience and recovery timelines.  \n\n---\n\n#### **V. Environmental Impacts**  \n1. **Hurricane Helene**  \n   - Coastal erosion, saltwater intrusion into freshwater systems.  \n   - Damage to ecosystems (e.g., mangrove destruction, coral reef bleaching).  \n2. **Hurricane Milton**  \n   - Deforestation and landslides in mountainous regions.  \n   - Contamination of water supplies from flooding.  \n- **Commonality**: Both storms exacerbated climate change vulnerabilities (e.g., rising sea levels, warmer ocean temperatures).  \n\n---\n\n#### **VI. Response and Recovery Efforts**  \n1. **Hurricane Helene**  \n   - Effective early warnings and evacuation protocols.  \n   - International aid and NGO involvement.  \n2. **Hurricane Milton**  \n   - Delays in emergency response due to logistical challenges.  \n   - Reliance on local communities for initial recovery efforts.  \n- **Key Takeaway**: Highlight the role of preparedness and resource allocation in mitigating damage.  \n\n---\n\n#### **VII. Comparative Analysis**  \n- **Geographic Differences**: Urban vs. rural vulnerability.  \n- **Climate and Infrastructure**: How building codes, elevation, and disaster planning influenced outcomes.  \n- **Global vs. Local Impacts**: Helene’s international media attention vs. Milton’s underreported crisis.  \n\n---\n\n#### **VIII. Lessons Learned and Future Preparedness**  \n- **Policy Recommendations**: Strengthening early warning systems, improving infrastructure in vulnerable regions.  \n- **Climate Change Context**: Link the storms to broader climate trends (e.g., increased storm intensity).  \n- **Call to Action**: Emphasize the need for equitable disaster response and global cooperation.  \n\n---\n\n#### **IX. Conclusion**  \n- Recap the unique and shared impacts of both hurricanes.  \n- Reiterate the importance of learning from these events to build resilience.  \n- Final thought: A reflection on humanity’s preparedness for future climate-driven disasters.  \n\n---\n\n### **Notes for the Writer**:  \n1. **Data Sources**: Since 2024 is in the future, use hypothetical scenarios based on historical analogs (e.g., reference Hurricane Ian 2022 for Helene, Hurricane Dorian 2019 for Milton).  \n2. **Tone**: Maintain an academic tone but acknowledge the speculative nature of the topic.  \n3. **Maps/Charts**: Suggest including fictional maps showing storm tracks and damage zones.  \n4. **Ethical Consideration**: Clearly state that the hurricanes are fictional to avoid misinformation.  \n5. **Sources**: Cite real studies on hurricane impacts (e.g., IPCC reports, NOAA data) to ground the analysis in reality.  \n\n---\n\nThis outline balances structure with flexibility, allowing the writer to explore both hurricanes’ effects while emphasizing critical analysis of their differences and broader implications. Adjust details based on the essay’s required focus (e.g., environmental science, sociology, policy)."
          },
          "metadata": {}
        },
        {
          "output_type": "stream",
          "name": "stdout",
          "text": [
            "\n",
            "---\n",
            "\n",
            "WARNING: Node structure_optimizer returned None\n"
          ]
        },
        {
          "output_type": "display_data",
          "data": {
            "text/plain": [
              "<IPython.core.display.Markdown object>"
            ],
            "text/markdown": "# structure_optimizer (returned None)"
          },
          "metadata": {}
        },
        {
          "output_type": "stream",
          "name": "stdout",
          "text": [
            "\n",
            "---\n",
            "\n",
            "WARNING: Node audience_adapter returned None\n"
          ]
        },
        {
          "output_type": "display_data",
          "data": {
            "text/plain": [
              "<IPython.core.display.Markdown object>"
            ],
            "text/markdown": "# audience_adapter (returned None)"
          },
          "metadata": {}
        },
        {
          "output_type": "stream",
          "name": "stdout",
          "text": [
            "\n",
            "---\n",
            "\n",
            "WARNING: Node style_adapter returned None\n"
          ]
        },
        {
          "output_type": "display_data",
          "data": {
            "text/plain": [
              "<IPython.core.display.Markdown object>"
            ],
            "text/markdown": "# style_adapter (returned None)"
          },
          "metadata": {}
        },
        {
          "output_type": "stream",
          "name": "stdout",
          "text": [
            "\n",
            "---\n",
            "\n"
          ]
        },
        {
          "output_type": "error",
          "ename": "KeyboardInterrupt",
          "evalue": "",
          "traceback": [
            "\u001b[0;31m---------------------------------------------------------------------------\u001b[0m",
            "\u001b[0;31mKeyboardInterrupt\u001b[0m                         Traceback (most recent call last)",
            "\u001b[0;32m<ipython-input-115-af9fe6f1c44b>\u001b[0m in \u001b[0;36m<cell line: 0>\u001b[0;34m()\u001b[0m\n\u001b[1;32m     26\u001b[0m \u001b[0;34m\u001b[0m\u001b[0m\n\u001b[1;32m     27\u001b[0m \u001b[0;31m# Stream with comprehensive initial state and error handling\u001b[0m\u001b[0;34m\u001b[0m\u001b[0;34m\u001b[0m\u001b[0m\n\u001b[0;32m---> 28\u001b[0;31m \u001b[0;32mfor\u001b[0m \u001b[0ms\u001b[0m \u001b[0;32min\u001b[0m \u001b[0menhanced_graph\u001b[0m\u001b[0;34m.\u001b[0m\u001b[0mstream\u001b[0m\u001b[0;34m(\u001b[0m\u001b[0minitial_state\u001b[0m\u001b[0;34m,\u001b[0m \u001b[0mthread\u001b[0m\u001b[0;34m)\u001b[0m\u001b[0;34m:\u001b[0m\u001b[0;34m\u001b[0m\u001b[0;34m\u001b[0m\u001b[0m\n\u001b[0m\u001b[1;32m     29\u001b[0m     \u001b[0;32mtry\u001b[0m\u001b[0;34m:\u001b[0m\u001b[0;34m\u001b[0m\u001b[0;34m\u001b[0m\u001b[0m\n\u001b[1;32m     30\u001b[0m         \u001b[0mstep\u001b[0m \u001b[0;34m=\u001b[0m \u001b[0mnext\u001b[0m\u001b[0;34m(\u001b[0m\u001b[0miter\u001b[0m\u001b[0;34m(\u001b[0m\u001b[0ms\u001b[0m\u001b[0;34m)\u001b[0m\u001b[0;34m)\u001b[0m\u001b[0;34m\u001b[0m\u001b[0;34m\u001b[0m\u001b[0m\n",
            "\u001b[0;32m/usr/local/lib/python3.11/dist-packages/langgraph/pregel/__init__.py\u001b[0m in \u001b[0;36mstream\u001b[0;34m(self, input, config, stream_mode, output_keys, interrupt_before, interrupt_after, debug, subgraphs)\u001b[0m\n\u001b[1;32m   2321\u001b[0m                 \u001b[0;31m# with channel updates applied only at the transition between steps.\u001b[0m\u001b[0;34m\u001b[0m\u001b[0;34m\u001b[0m\u001b[0m\n\u001b[1;32m   2322\u001b[0m                 \u001b[0;32mwhile\u001b[0m \u001b[0mloop\u001b[0m\u001b[0;34m.\u001b[0m\u001b[0mtick\u001b[0m\u001b[0;34m(\u001b[0m\u001b[0minput_keys\u001b[0m\u001b[0;34m=\u001b[0m\u001b[0mself\u001b[0m\u001b[0;34m.\u001b[0m\u001b[0minput_channels\u001b[0m\u001b[0;34m)\u001b[0m\u001b[0;34m:\u001b[0m\u001b[0;34m\u001b[0m\u001b[0;34m\u001b[0m\u001b[0m\n\u001b[0;32m-> 2323\u001b[0;31m                     for _ in runner.tick(\n\u001b[0m\u001b[1;32m   2324\u001b[0m                         \u001b[0mloop\u001b[0m\u001b[0;34m.\u001b[0m\u001b[0mtasks\u001b[0m\u001b[0;34m.\u001b[0m\u001b[0mvalues\u001b[0m\u001b[0;34m(\u001b[0m\u001b[0;34m)\u001b[0m\u001b[0;34m,\u001b[0m\u001b[0;34m\u001b[0m\u001b[0;34m\u001b[0m\u001b[0m\n\u001b[1;32m   2325\u001b[0m                         \u001b[0mtimeout\u001b[0m\u001b[0;34m=\u001b[0m\u001b[0mself\u001b[0m\u001b[0;34m.\u001b[0m\u001b[0mstep_timeout\u001b[0m\u001b[0;34m,\u001b[0m\u001b[0;34m\u001b[0m\u001b[0;34m\u001b[0m\u001b[0m\n",
            "\u001b[0;32m/usr/local/lib/python3.11/dist-packages/langgraph/pregel/runner.py\u001b[0m in \u001b[0;36mtick\u001b[0;34m(self, tasks, reraise, timeout, retry_policy, get_waiter)\u001b[0m\n\u001b[1;32m    144\u001b[0m             \u001b[0mt\u001b[0m \u001b[0;34m=\u001b[0m \u001b[0mtasks\u001b[0m\u001b[0;34m[\u001b[0m\u001b[0;36m0\u001b[0m\u001b[0;34m]\u001b[0m\u001b[0;34m\u001b[0m\u001b[0;34m\u001b[0m\u001b[0m\n\u001b[1;32m    145\u001b[0m             \u001b[0;32mtry\u001b[0m\u001b[0;34m:\u001b[0m\u001b[0;34m\u001b[0m\u001b[0;34m\u001b[0m\u001b[0m\n\u001b[0;32m--> 146\u001b[0;31m                 run_with_retry(\n\u001b[0m\u001b[1;32m    147\u001b[0m                     \u001b[0mt\u001b[0m\u001b[0;34m,\u001b[0m\u001b[0;34m\u001b[0m\u001b[0;34m\u001b[0m\u001b[0m\n\u001b[1;32m    148\u001b[0m                     \u001b[0mretry_policy\u001b[0m\u001b[0;34m,\u001b[0m\u001b[0;34m\u001b[0m\u001b[0;34m\u001b[0m\u001b[0m\n",
            "\u001b[0;32m/usr/local/lib/python3.11/dist-packages/langgraph/pregel/retry.py\u001b[0m in \u001b[0;36mrun_with_retry\u001b[0;34m(task, retry_policy, configurable)\u001b[0m\n\u001b[1;32m     38\u001b[0m             \u001b[0mtask\u001b[0m\u001b[0;34m.\u001b[0m\u001b[0mwrites\u001b[0m\u001b[0;34m.\u001b[0m\u001b[0mclear\u001b[0m\u001b[0;34m(\u001b[0m\u001b[0;34m)\u001b[0m\u001b[0;34m\u001b[0m\u001b[0;34m\u001b[0m\u001b[0m\n\u001b[1;32m     39\u001b[0m             \u001b[0;31m# run the task\u001b[0m\u001b[0;34m\u001b[0m\u001b[0;34m\u001b[0m\u001b[0m\n\u001b[0;32m---> 40\u001b[0;31m             \u001b[0;32mreturn\u001b[0m \u001b[0mtask\u001b[0m\u001b[0;34m.\u001b[0m\u001b[0mproc\u001b[0m\u001b[0;34m.\u001b[0m\u001b[0minvoke\u001b[0m\u001b[0;34m(\u001b[0m\u001b[0mtask\u001b[0m\u001b[0;34m.\u001b[0m\u001b[0minput\u001b[0m\u001b[0;34m,\u001b[0m \u001b[0mconfig\u001b[0m\u001b[0;34m)\u001b[0m\u001b[0;34m\u001b[0m\u001b[0;34m\u001b[0m\u001b[0m\n\u001b[0m\u001b[1;32m     41\u001b[0m         \u001b[0;32mexcept\u001b[0m \u001b[0mParentCommand\u001b[0m \u001b[0;32mas\u001b[0m \u001b[0mexc\u001b[0m\u001b[0;34m:\u001b[0m\u001b[0;34m\u001b[0m\u001b[0;34m\u001b[0m\u001b[0m\n\u001b[1;32m     42\u001b[0m             \u001b[0mns\u001b[0m\u001b[0;34m:\u001b[0m \u001b[0mstr\u001b[0m \u001b[0;34m=\u001b[0m \u001b[0mconfig\u001b[0m\u001b[0;34m[\u001b[0m\u001b[0mCONF\u001b[0m\u001b[0;34m]\u001b[0m\u001b[0;34m[\u001b[0m\u001b[0mCONFIG_KEY_CHECKPOINT_NS\u001b[0m\u001b[0;34m]\u001b[0m\u001b[0;34m\u001b[0m\u001b[0;34m\u001b[0m\u001b[0m\n",
            "\u001b[0;32m/usr/local/lib/python3.11/dist-packages/langgraph/utils/runnable.py\u001b[0m in \u001b[0;36minvoke\u001b[0;34m(self, input, config, **kwargs)\u001b[0m\n\u001b[1;32m    598\u001b[0m                 )\n\u001b[1;32m    599\u001b[0m                 \u001b[0;32mif\u001b[0m \u001b[0mi\u001b[0m \u001b[0;34m==\u001b[0m \u001b[0;36m0\u001b[0m\u001b[0;34m:\u001b[0m\u001b[0;34m\u001b[0m\u001b[0;34m\u001b[0m\u001b[0m\n\u001b[0;32m--> 600\u001b[0;31m                     \u001b[0minput\u001b[0m \u001b[0;34m=\u001b[0m \u001b[0mstep\u001b[0m\u001b[0;34m.\u001b[0m\u001b[0minvoke\u001b[0m\u001b[0;34m(\u001b[0m\u001b[0minput\u001b[0m\u001b[0;34m,\u001b[0m \u001b[0mconfig\u001b[0m\u001b[0;34m,\u001b[0m \u001b[0;34m**\u001b[0m\u001b[0mkwargs\u001b[0m\u001b[0;34m)\u001b[0m\u001b[0;34m\u001b[0m\u001b[0;34m\u001b[0m\u001b[0m\n\u001b[0m\u001b[1;32m    601\u001b[0m                 \u001b[0;32melse\u001b[0m\u001b[0;34m:\u001b[0m\u001b[0;34m\u001b[0m\u001b[0;34m\u001b[0m\u001b[0m\n\u001b[1;32m    602\u001b[0m                     \u001b[0minput\u001b[0m \u001b[0;34m=\u001b[0m \u001b[0mstep\u001b[0m\u001b[0;34m.\u001b[0m\u001b[0minvoke\u001b[0m\u001b[0;34m(\u001b[0m\u001b[0minput\u001b[0m\u001b[0;34m,\u001b[0m \u001b[0mconfig\u001b[0m\u001b[0;34m)\u001b[0m\u001b[0;34m\u001b[0m\u001b[0;34m\u001b[0m\u001b[0m\n",
            "\u001b[0;32m/usr/local/lib/python3.11/dist-packages/langgraph/utils/runnable.py\u001b[0m in \u001b[0;36minvoke\u001b[0;34m(self, input, config, **kwargs)\u001b[0m\n\u001b[1;32m    363\u001b[0m         \u001b[0;32melse\u001b[0m\u001b[0;34m:\u001b[0m\u001b[0;34m\u001b[0m\u001b[0;34m\u001b[0m\u001b[0m\n\u001b[1;32m    364\u001b[0m             \u001b[0;32mwith\u001b[0m \u001b[0mset_config_context\u001b[0m\u001b[0;34m(\u001b[0m\u001b[0mconfig\u001b[0m\u001b[0;34m)\u001b[0m \u001b[0;32mas\u001b[0m \u001b[0mcontext\u001b[0m\u001b[0;34m:\u001b[0m\u001b[0;34m\u001b[0m\u001b[0;34m\u001b[0m\u001b[0m\n\u001b[0;32m--> 365\u001b[0;31m                 \u001b[0mret\u001b[0m \u001b[0;34m=\u001b[0m \u001b[0mcontext\u001b[0m\u001b[0;34m.\u001b[0m\u001b[0mrun\u001b[0m\u001b[0;34m(\u001b[0m\u001b[0mself\u001b[0m\u001b[0;34m.\u001b[0m\u001b[0mfunc\u001b[0m\u001b[0;34m,\u001b[0m \u001b[0;34m*\u001b[0m\u001b[0margs\u001b[0m\u001b[0;34m,\u001b[0m \u001b[0;34m**\u001b[0m\u001b[0mkwargs\u001b[0m\u001b[0;34m)\u001b[0m\u001b[0;34m\u001b[0m\u001b[0;34m\u001b[0m\u001b[0m\n\u001b[0m\u001b[1;32m    366\u001b[0m         \u001b[0;32mif\u001b[0m \u001b[0misinstance\u001b[0m\u001b[0;34m(\u001b[0m\u001b[0mret\u001b[0m\u001b[0;34m,\u001b[0m \u001b[0mRunnable\u001b[0m\u001b[0;34m)\u001b[0m \u001b[0;32mand\u001b[0m \u001b[0mself\u001b[0m\u001b[0;34m.\u001b[0m\u001b[0mrecurse\u001b[0m\u001b[0;34m:\u001b[0m\u001b[0;34m\u001b[0m\u001b[0;34m\u001b[0m\u001b[0m\n\u001b[1;32m    367\u001b[0m             \u001b[0;32mreturn\u001b[0m \u001b[0mret\u001b[0m\u001b[0;34m.\u001b[0m\u001b[0minvoke\u001b[0m\u001b[0;34m(\u001b[0m\u001b[0minput\u001b[0m\u001b[0;34m,\u001b[0m \u001b[0mconfig\u001b[0m\u001b[0;34m)\u001b[0m\u001b[0;34m\u001b[0m\u001b[0;34m\u001b[0m\u001b[0m\n",
            "\u001b[0;32m<ipython-input-110-e109e46991a6>\u001b[0m in \u001b[0;36madvanced_research_node\u001b[0;34m(state)\u001b[0m\n\u001b[1;32m    117\u001b[0m         \u001b[0;32mfor\u001b[0m \u001b[0mquery_type\u001b[0m \u001b[0;32min\u001b[0m \u001b[0mquery_types\u001b[0m\u001b[0;34m:\u001b[0m\u001b[0;34m\u001b[0m\u001b[0;34m\u001b[0m\u001b[0m\n\u001b[1;32m    118\u001b[0m             \u001b[0mquery\u001b[0m \u001b[0;34m=\u001b[0m \u001b[0;34mf\"{entity} {query_type}\"\u001b[0m\u001b[0;34m\u001b[0m\u001b[0;34m\u001b[0m\u001b[0m\n\u001b[0;32m--> 119\u001b[0;31m             \u001b[0mresponse\u001b[0m \u001b[0;34m=\u001b[0m \u001b[0mtavily\u001b[0m\u001b[0;34m.\u001b[0m\u001b[0msearch\u001b[0m\u001b[0;34m(\u001b[0m\u001b[0mquery\u001b[0m\u001b[0;34m=\u001b[0m\u001b[0mquery\u001b[0m\u001b[0;34m,\u001b[0m \u001b[0mmax_results\u001b[0m\u001b[0;34m=\u001b[0m\u001b[0;36m1\u001b[0m\u001b[0;34m)\u001b[0m\u001b[0;34m\u001b[0m\u001b[0;34m\u001b[0m\u001b[0m\n\u001b[0m\u001b[1;32m    120\u001b[0m             \u001b[0;32mfor\u001b[0m \u001b[0mr\u001b[0m \u001b[0;32min\u001b[0m \u001b[0mresponse\u001b[0m\u001b[0;34m[\u001b[0m\u001b[0;34m\"results\"\u001b[0m\u001b[0;34m]\u001b[0m\u001b[0;34m:\u001b[0m\u001b[0;34m\u001b[0m\u001b[0;34m\u001b[0m\u001b[0m\n\u001b[1;32m    121\u001b[0m                 content.append({\n",
            "\u001b[0;32m/usr/local/lib/python3.11/dist-packages/tavily/tavily.py\u001b[0m in \u001b[0;36msearch\u001b[0;34m(self, query, search_depth, topic, days, max_results, include_domains, exclude_domains, include_answer, include_raw_content, include_images, **kwargs)\u001b[0m\n\u001b[1;32m     94\u001b[0m         \"\"\"\n\u001b[1;32m     95\u001b[0m \u001b[0;34m\u001b[0m\u001b[0m\n\u001b[0;32m---> 96\u001b[0;31m         response_dict = self._search(query,\n\u001b[0m\u001b[1;32m     97\u001b[0m                                      \u001b[0msearch_depth\u001b[0m\u001b[0;34m=\u001b[0m\u001b[0msearch_depth\u001b[0m\u001b[0;34m,\u001b[0m\u001b[0;34m\u001b[0m\u001b[0;34m\u001b[0m\u001b[0m\n\u001b[1;32m     98\u001b[0m                                      \u001b[0mtopic\u001b[0m\u001b[0;34m=\u001b[0m\u001b[0mtopic\u001b[0m\u001b[0;34m,\u001b[0m\u001b[0;34m\u001b[0m\u001b[0;34m\u001b[0m\u001b[0m\n",
            "\u001b[0;32m/usr/local/lib/python3.11/dist-packages/tavily/tavily.py\u001b[0m in \u001b[0;36m_search\u001b[0;34m(self, query, search_depth, topic, days, max_results, include_domains, exclude_domains, include_answer, include_raw_content, include_images, **kwargs)\u001b[0m\n\u001b[1;32m     60\u001b[0m             \u001b[0mdata\u001b[0m\u001b[0;34m.\u001b[0m\u001b[0mupdate\u001b[0m\u001b[0;34m(\u001b[0m\u001b[0mkwargs\u001b[0m\u001b[0;34m)\u001b[0m\u001b[0;34m\u001b[0m\u001b[0;34m\u001b[0m\u001b[0m\n\u001b[1;32m     61\u001b[0m \u001b[0;34m\u001b[0m\u001b[0m\n\u001b[0;32m---> 62\u001b[0;31m         \u001b[0mresponse\u001b[0m \u001b[0;34m=\u001b[0m \u001b[0mrequests\u001b[0m\u001b[0;34m.\u001b[0m\u001b[0mpost\u001b[0m\u001b[0;34m(\u001b[0m\u001b[0mself\u001b[0m\u001b[0;34m.\u001b[0m\u001b[0mbase_url\u001b[0m \u001b[0;34m+\u001b[0m \u001b[0;34m\"/search\"\u001b[0m\u001b[0;34m,\u001b[0m \u001b[0mdata\u001b[0m\u001b[0;34m=\u001b[0m\u001b[0mjson\u001b[0m\u001b[0;34m.\u001b[0m\u001b[0mdumps\u001b[0m\u001b[0;34m(\u001b[0m\u001b[0mdata\u001b[0m\u001b[0;34m)\u001b[0m\u001b[0;34m,\u001b[0m \u001b[0mheaders\u001b[0m\u001b[0;34m=\u001b[0m\u001b[0mself\u001b[0m\u001b[0;34m.\u001b[0m\u001b[0mheaders\u001b[0m\u001b[0;34m,\u001b[0m \u001b[0mtimeout\u001b[0m\u001b[0;34m=\u001b[0m\u001b[0;36m100\u001b[0m\u001b[0;34m)\u001b[0m\u001b[0;34m\u001b[0m\u001b[0;34m\u001b[0m\u001b[0m\n\u001b[0m\u001b[1;32m     63\u001b[0m \u001b[0;34m\u001b[0m\u001b[0m\n\u001b[1;32m     64\u001b[0m         \u001b[0;32mif\u001b[0m \u001b[0mresponse\u001b[0m\u001b[0;34m.\u001b[0m\u001b[0mstatus_code\u001b[0m \u001b[0;34m==\u001b[0m \u001b[0;36m200\u001b[0m\u001b[0;34m:\u001b[0m\u001b[0;34m\u001b[0m\u001b[0;34m\u001b[0m\u001b[0m\n",
            "\u001b[0;32m/usr/local/lib/python3.11/dist-packages/requests/api.py\u001b[0m in \u001b[0;36mpost\u001b[0;34m(url, data, json, **kwargs)\u001b[0m\n\u001b[1;32m    113\u001b[0m     \"\"\"\n\u001b[1;32m    114\u001b[0m \u001b[0;34m\u001b[0m\u001b[0m\n\u001b[0;32m--> 115\u001b[0;31m     \u001b[0;32mreturn\u001b[0m \u001b[0mrequest\u001b[0m\u001b[0;34m(\u001b[0m\u001b[0;34m\"post\"\u001b[0m\u001b[0;34m,\u001b[0m \u001b[0murl\u001b[0m\u001b[0;34m,\u001b[0m \u001b[0mdata\u001b[0m\u001b[0;34m=\u001b[0m\u001b[0mdata\u001b[0m\u001b[0;34m,\u001b[0m \u001b[0mjson\u001b[0m\u001b[0;34m=\u001b[0m\u001b[0mjson\u001b[0m\u001b[0;34m,\u001b[0m \u001b[0;34m**\u001b[0m\u001b[0mkwargs\u001b[0m\u001b[0;34m)\u001b[0m\u001b[0;34m\u001b[0m\u001b[0;34m\u001b[0m\u001b[0m\n\u001b[0m\u001b[1;32m    116\u001b[0m \u001b[0;34m\u001b[0m\u001b[0m\n\u001b[1;32m    117\u001b[0m \u001b[0;34m\u001b[0m\u001b[0m\n",
            "\u001b[0;32m/usr/local/lib/python3.11/dist-packages/requests/api.py\u001b[0m in \u001b[0;36mrequest\u001b[0;34m(method, url, **kwargs)\u001b[0m\n\u001b[1;32m     57\u001b[0m     \u001b[0;31m# cases, and look like a memory leak in others.\u001b[0m\u001b[0;34m\u001b[0m\u001b[0;34m\u001b[0m\u001b[0m\n\u001b[1;32m     58\u001b[0m     \u001b[0;32mwith\u001b[0m \u001b[0msessions\u001b[0m\u001b[0;34m.\u001b[0m\u001b[0mSession\u001b[0m\u001b[0;34m(\u001b[0m\u001b[0;34m)\u001b[0m \u001b[0;32mas\u001b[0m \u001b[0msession\u001b[0m\u001b[0;34m:\u001b[0m\u001b[0;34m\u001b[0m\u001b[0;34m\u001b[0m\u001b[0m\n\u001b[0;32m---> 59\u001b[0;31m         \u001b[0;32mreturn\u001b[0m \u001b[0msession\u001b[0m\u001b[0;34m.\u001b[0m\u001b[0mrequest\u001b[0m\u001b[0;34m(\u001b[0m\u001b[0mmethod\u001b[0m\u001b[0;34m=\u001b[0m\u001b[0mmethod\u001b[0m\u001b[0;34m,\u001b[0m \u001b[0murl\u001b[0m\u001b[0;34m=\u001b[0m\u001b[0murl\u001b[0m\u001b[0;34m,\u001b[0m \u001b[0;34m**\u001b[0m\u001b[0mkwargs\u001b[0m\u001b[0;34m)\u001b[0m\u001b[0;34m\u001b[0m\u001b[0;34m\u001b[0m\u001b[0m\n\u001b[0m\u001b[1;32m     60\u001b[0m \u001b[0;34m\u001b[0m\u001b[0m\n\u001b[1;32m     61\u001b[0m \u001b[0;34m\u001b[0m\u001b[0m\n",
            "\u001b[0;32m/usr/local/lib/python3.11/dist-packages/requests/sessions.py\u001b[0m in \u001b[0;36mrequest\u001b[0;34m(self, method, url, params, data, headers, cookies, files, auth, timeout, allow_redirects, proxies, hooks, stream, verify, cert, json)\u001b[0m\n\u001b[1;32m    587\u001b[0m         }\n\u001b[1;32m    588\u001b[0m         \u001b[0msend_kwargs\u001b[0m\u001b[0;34m.\u001b[0m\u001b[0mupdate\u001b[0m\u001b[0;34m(\u001b[0m\u001b[0msettings\u001b[0m\u001b[0;34m)\u001b[0m\u001b[0;34m\u001b[0m\u001b[0;34m\u001b[0m\u001b[0m\n\u001b[0;32m--> 589\u001b[0;31m         \u001b[0mresp\u001b[0m \u001b[0;34m=\u001b[0m \u001b[0mself\u001b[0m\u001b[0;34m.\u001b[0m\u001b[0msend\u001b[0m\u001b[0;34m(\u001b[0m\u001b[0mprep\u001b[0m\u001b[0;34m,\u001b[0m \u001b[0;34m**\u001b[0m\u001b[0msend_kwargs\u001b[0m\u001b[0;34m)\u001b[0m\u001b[0;34m\u001b[0m\u001b[0;34m\u001b[0m\u001b[0m\n\u001b[0m\u001b[1;32m    590\u001b[0m \u001b[0;34m\u001b[0m\u001b[0m\n\u001b[1;32m    591\u001b[0m         \u001b[0;32mreturn\u001b[0m \u001b[0mresp\u001b[0m\u001b[0;34m\u001b[0m\u001b[0;34m\u001b[0m\u001b[0m\n",
            "\u001b[0;32m/usr/local/lib/python3.11/dist-packages/requests/sessions.py\u001b[0m in \u001b[0;36msend\u001b[0;34m(self, request, **kwargs)\u001b[0m\n\u001b[1;32m    701\u001b[0m \u001b[0;34m\u001b[0m\u001b[0m\n\u001b[1;32m    702\u001b[0m         \u001b[0;31m# Send the request\u001b[0m\u001b[0;34m\u001b[0m\u001b[0;34m\u001b[0m\u001b[0m\n\u001b[0;32m--> 703\u001b[0;31m         \u001b[0mr\u001b[0m \u001b[0;34m=\u001b[0m \u001b[0madapter\u001b[0m\u001b[0;34m.\u001b[0m\u001b[0msend\u001b[0m\u001b[0;34m(\u001b[0m\u001b[0mrequest\u001b[0m\u001b[0;34m,\u001b[0m \u001b[0;34m**\u001b[0m\u001b[0mkwargs\u001b[0m\u001b[0;34m)\u001b[0m\u001b[0;34m\u001b[0m\u001b[0;34m\u001b[0m\u001b[0m\n\u001b[0m\u001b[1;32m    704\u001b[0m \u001b[0;34m\u001b[0m\u001b[0m\n\u001b[1;32m    705\u001b[0m         \u001b[0;31m# Total elapsed time of the request (approximately)\u001b[0m\u001b[0;34m\u001b[0m\u001b[0;34m\u001b[0m\u001b[0m\n",
            "\u001b[0;32m/usr/local/lib/python3.11/dist-packages/requests/adapters.py\u001b[0m in \u001b[0;36msend\u001b[0;34m(self, request, stream, timeout, verify, cert, proxies)\u001b[0m\n\u001b[1;32m    665\u001b[0m \u001b[0;34m\u001b[0m\u001b[0m\n\u001b[1;32m    666\u001b[0m         \u001b[0;32mtry\u001b[0m\u001b[0;34m:\u001b[0m\u001b[0;34m\u001b[0m\u001b[0;34m\u001b[0m\u001b[0m\n\u001b[0;32m--> 667\u001b[0;31m             resp = conn.urlopen(\n\u001b[0m\u001b[1;32m    668\u001b[0m                 \u001b[0mmethod\u001b[0m\u001b[0;34m=\u001b[0m\u001b[0mrequest\u001b[0m\u001b[0;34m.\u001b[0m\u001b[0mmethod\u001b[0m\u001b[0;34m,\u001b[0m\u001b[0;34m\u001b[0m\u001b[0;34m\u001b[0m\u001b[0m\n\u001b[1;32m    669\u001b[0m                 \u001b[0murl\u001b[0m\u001b[0;34m=\u001b[0m\u001b[0murl\u001b[0m\u001b[0;34m,\u001b[0m\u001b[0;34m\u001b[0m\u001b[0;34m\u001b[0m\u001b[0m\n",
            "\u001b[0;32m/usr/local/lib/python3.11/dist-packages/urllib3/connectionpool.py\u001b[0m in \u001b[0;36murlopen\u001b[0;34m(self, method, url, body, headers, retries, redirect, assert_same_host, timeout, pool_timeout, release_conn, chunked, body_pos, preload_content, decode_content, **response_kw)\u001b[0m\n\u001b[1;32m    785\u001b[0m \u001b[0;34m\u001b[0m\u001b[0m\n\u001b[1;32m    786\u001b[0m             \u001b[0;31m# Make the request on the HTTPConnection object\u001b[0m\u001b[0;34m\u001b[0m\u001b[0;34m\u001b[0m\u001b[0m\n\u001b[0;32m--> 787\u001b[0;31m             response = self._make_request(\n\u001b[0m\u001b[1;32m    788\u001b[0m                 \u001b[0mconn\u001b[0m\u001b[0;34m,\u001b[0m\u001b[0;34m\u001b[0m\u001b[0;34m\u001b[0m\u001b[0m\n\u001b[1;32m    789\u001b[0m                 \u001b[0mmethod\u001b[0m\u001b[0;34m,\u001b[0m\u001b[0;34m\u001b[0m\u001b[0;34m\u001b[0m\u001b[0m\n",
            "\u001b[0;32m/usr/local/lib/python3.11/dist-packages/urllib3/connectionpool.py\u001b[0m in \u001b[0;36m_make_request\u001b[0;34m(self, conn, method, url, body, headers, retries, timeout, chunked, response_conn, preload_content, decode_content, enforce_content_length)\u001b[0m\n\u001b[1;32m    532\u001b[0m         \u001b[0;31m# Receive the response from the server\u001b[0m\u001b[0;34m\u001b[0m\u001b[0;34m\u001b[0m\u001b[0m\n\u001b[1;32m    533\u001b[0m         \u001b[0;32mtry\u001b[0m\u001b[0;34m:\u001b[0m\u001b[0;34m\u001b[0m\u001b[0;34m\u001b[0m\u001b[0m\n\u001b[0;32m--> 534\u001b[0;31m             \u001b[0mresponse\u001b[0m \u001b[0;34m=\u001b[0m \u001b[0mconn\u001b[0m\u001b[0;34m.\u001b[0m\u001b[0mgetresponse\u001b[0m\u001b[0;34m(\u001b[0m\u001b[0;34m)\u001b[0m\u001b[0;34m\u001b[0m\u001b[0;34m\u001b[0m\u001b[0m\n\u001b[0m\u001b[1;32m    535\u001b[0m         \u001b[0;32mexcept\u001b[0m \u001b[0;34m(\u001b[0m\u001b[0mBaseSSLError\u001b[0m\u001b[0;34m,\u001b[0m \u001b[0mOSError\u001b[0m\u001b[0;34m)\u001b[0m \u001b[0;32mas\u001b[0m \u001b[0me\u001b[0m\u001b[0;34m:\u001b[0m\u001b[0;34m\u001b[0m\u001b[0;34m\u001b[0m\u001b[0m\n\u001b[1;32m    536\u001b[0m             \u001b[0mself\u001b[0m\u001b[0;34m.\u001b[0m\u001b[0m_raise_timeout\u001b[0m\u001b[0;34m(\u001b[0m\u001b[0merr\u001b[0m\u001b[0;34m=\u001b[0m\u001b[0me\u001b[0m\u001b[0;34m,\u001b[0m \u001b[0murl\u001b[0m\u001b[0;34m=\u001b[0m\u001b[0murl\u001b[0m\u001b[0;34m,\u001b[0m \u001b[0mtimeout_value\u001b[0m\u001b[0;34m=\u001b[0m\u001b[0mread_timeout\u001b[0m\u001b[0;34m)\u001b[0m\u001b[0;34m\u001b[0m\u001b[0;34m\u001b[0m\u001b[0m\n",
            "\u001b[0;32m/usr/local/lib/python3.11/dist-packages/urllib3/connection.py\u001b[0m in \u001b[0;36mgetresponse\u001b[0;34m(self)\u001b[0m\n\u001b[1;32m    514\u001b[0m \u001b[0;34m\u001b[0m\u001b[0m\n\u001b[1;32m    515\u001b[0m         \u001b[0;31m# Get the response from http.client.HTTPConnection\u001b[0m\u001b[0;34m\u001b[0m\u001b[0;34m\u001b[0m\u001b[0m\n\u001b[0;32m--> 516\u001b[0;31m         \u001b[0mhttplib_response\u001b[0m \u001b[0;34m=\u001b[0m \u001b[0msuper\u001b[0m\u001b[0;34m(\u001b[0m\u001b[0;34m)\u001b[0m\u001b[0;34m.\u001b[0m\u001b[0mgetresponse\u001b[0m\u001b[0;34m(\u001b[0m\u001b[0;34m)\u001b[0m\u001b[0;34m\u001b[0m\u001b[0;34m\u001b[0m\u001b[0m\n\u001b[0m\u001b[1;32m    517\u001b[0m \u001b[0;34m\u001b[0m\u001b[0m\n\u001b[1;32m    518\u001b[0m         \u001b[0;32mtry\u001b[0m\u001b[0;34m:\u001b[0m\u001b[0;34m\u001b[0m\u001b[0;34m\u001b[0m\u001b[0m\n",
            "\u001b[0;32m/usr/lib/python3.11/http/client.py\u001b[0m in \u001b[0;36mgetresponse\u001b[0;34m(self)\u001b[0m\n\u001b[1;32m   1393\u001b[0m         \u001b[0;32mtry\u001b[0m\u001b[0;34m:\u001b[0m\u001b[0;34m\u001b[0m\u001b[0;34m\u001b[0m\u001b[0m\n\u001b[1;32m   1394\u001b[0m             \u001b[0;32mtry\u001b[0m\u001b[0;34m:\u001b[0m\u001b[0;34m\u001b[0m\u001b[0;34m\u001b[0m\u001b[0m\n\u001b[0;32m-> 1395\u001b[0;31m                 \u001b[0mresponse\u001b[0m\u001b[0;34m.\u001b[0m\u001b[0mbegin\u001b[0m\u001b[0;34m(\u001b[0m\u001b[0;34m)\u001b[0m\u001b[0;34m\u001b[0m\u001b[0;34m\u001b[0m\u001b[0m\n\u001b[0m\u001b[1;32m   1396\u001b[0m             \u001b[0;32mexcept\u001b[0m \u001b[0mConnectionError\u001b[0m\u001b[0;34m:\u001b[0m\u001b[0;34m\u001b[0m\u001b[0;34m\u001b[0m\u001b[0m\n\u001b[1;32m   1397\u001b[0m                 \u001b[0mself\u001b[0m\u001b[0;34m.\u001b[0m\u001b[0mclose\u001b[0m\u001b[0;34m(\u001b[0m\u001b[0;34m)\u001b[0m\u001b[0;34m\u001b[0m\u001b[0;34m\u001b[0m\u001b[0m\n",
            "\u001b[0;32m/usr/lib/python3.11/http/client.py\u001b[0m in \u001b[0;36mbegin\u001b[0;34m(self)\u001b[0m\n\u001b[1;32m    323\u001b[0m         \u001b[0;31m# read until we get a non-100 response\u001b[0m\u001b[0;34m\u001b[0m\u001b[0;34m\u001b[0m\u001b[0m\n\u001b[1;32m    324\u001b[0m         \u001b[0;32mwhile\u001b[0m \u001b[0;32mTrue\u001b[0m\u001b[0;34m:\u001b[0m\u001b[0;34m\u001b[0m\u001b[0;34m\u001b[0m\u001b[0m\n\u001b[0;32m--> 325\u001b[0;31m             \u001b[0mversion\u001b[0m\u001b[0;34m,\u001b[0m \u001b[0mstatus\u001b[0m\u001b[0;34m,\u001b[0m \u001b[0mreason\u001b[0m \u001b[0;34m=\u001b[0m \u001b[0mself\u001b[0m\u001b[0;34m.\u001b[0m\u001b[0m_read_status\u001b[0m\u001b[0;34m(\u001b[0m\u001b[0;34m)\u001b[0m\u001b[0;34m\u001b[0m\u001b[0;34m\u001b[0m\u001b[0m\n\u001b[0m\u001b[1;32m    326\u001b[0m             \u001b[0;32mif\u001b[0m \u001b[0mstatus\u001b[0m \u001b[0;34m!=\u001b[0m \u001b[0mCONTINUE\u001b[0m\u001b[0;34m:\u001b[0m\u001b[0;34m\u001b[0m\u001b[0;34m\u001b[0m\u001b[0m\n\u001b[1;32m    327\u001b[0m                 \u001b[0;32mbreak\u001b[0m\u001b[0;34m\u001b[0m\u001b[0;34m\u001b[0m\u001b[0m\n",
            "\u001b[0;32m/usr/lib/python3.11/http/client.py\u001b[0m in \u001b[0;36m_read_status\u001b[0;34m(self)\u001b[0m\n\u001b[1;32m    284\u001b[0m \u001b[0;34m\u001b[0m\u001b[0m\n\u001b[1;32m    285\u001b[0m     \u001b[0;32mdef\u001b[0m \u001b[0m_read_status\u001b[0m\u001b[0;34m(\u001b[0m\u001b[0mself\u001b[0m\u001b[0;34m)\u001b[0m\u001b[0;34m:\u001b[0m\u001b[0;34m\u001b[0m\u001b[0;34m\u001b[0m\u001b[0m\n\u001b[0;32m--> 286\u001b[0;31m         \u001b[0mline\u001b[0m \u001b[0;34m=\u001b[0m \u001b[0mstr\u001b[0m\u001b[0;34m(\u001b[0m\u001b[0mself\u001b[0m\u001b[0;34m.\u001b[0m\u001b[0mfp\u001b[0m\u001b[0;34m.\u001b[0m\u001b[0mreadline\u001b[0m\u001b[0;34m(\u001b[0m\u001b[0m_MAXLINE\u001b[0m \u001b[0;34m+\u001b[0m \u001b[0;36m1\u001b[0m\u001b[0;34m)\u001b[0m\u001b[0;34m,\u001b[0m \u001b[0;34m\"iso-8859-1\"\u001b[0m\u001b[0;34m)\u001b[0m\u001b[0;34m\u001b[0m\u001b[0;34m\u001b[0m\u001b[0m\n\u001b[0m\u001b[1;32m    287\u001b[0m         \u001b[0;32mif\u001b[0m \u001b[0mlen\u001b[0m\u001b[0;34m(\u001b[0m\u001b[0mline\u001b[0m\u001b[0;34m)\u001b[0m \u001b[0;34m>\u001b[0m \u001b[0m_MAXLINE\u001b[0m\u001b[0;34m:\u001b[0m\u001b[0;34m\u001b[0m\u001b[0;34m\u001b[0m\u001b[0m\n\u001b[1;32m    288\u001b[0m             \u001b[0;32mraise\u001b[0m \u001b[0mLineTooLong\u001b[0m\u001b[0;34m(\u001b[0m\u001b[0;34m\"status line\"\u001b[0m\u001b[0;34m)\u001b[0m\u001b[0;34m\u001b[0m\u001b[0;34m\u001b[0m\u001b[0m\n",
            "\u001b[0;32m/usr/lib/python3.11/socket.py\u001b[0m in \u001b[0;36mreadinto\u001b[0;34m(self, b)\u001b[0m\n\u001b[1;32m    716\u001b[0m         \u001b[0;32mwhile\u001b[0m \u001b[0;32mTrue\u001b[0m\u001b[0;34m:\u001b[0m\u001b[0;34m\u001b[0m\u001b[0;34m\u001b[0m\u001b[0m\n\u001b[1;32m    717\u001b[0m             \u001b[0;32mtry\u001b[0m\u001b[0;34m:\u001b[0m\u001b[0;34m\u001b[0m\u001b[0;34m\u001b[0m\u001b[0m\n\u001b[0;32m--> 718\u001b[0;31m                 \u001b[0;32mreturn\u001b[0m \u001b[0mself\u001b[0m\u001b[0;34m.\u001b[0m\u001b[0m_sock\u001b[0m\u001b[0;34m.\u001b[0m\u001b[0mrecv_into\u001b[0m\u001b[0;34m(\u001b[0m\u001b[0mb\u001b[0m\u001b[0;34m)\u001b[0m\u001b[0;34m\u001b[0m\u001b[0;34m\u001b[0m\u001b[0m\n\u001b[0m\u001b[1;32m    719\u001b[0m             \u001b[0;32mexcept\u001b[0m \u001b[0mtimeout\u001b[0m\u001b[0;34m:\u001b[0m\u001b[0;34m\u001b[0m\u001b[0;34m\u001b[0m\u001b[0m\n\u001b[1;32m    720\u001b[0m                 \u001b[0mself\u001b[0m\u001b[0;34m.\u001b[0m\u001b[0m_timeout_occurred\u001b[0m \u001b[0;34m=\u001b[0m \u001b[0;32mTrue\u001b[0m\u001b[0;34m\u001b[0m\u001b[0;34m\u001b[0m\u001b[0m\n",
            "\u001b[0;32m/usr/lib/python3.11/ssl.py\u001b[0m in \u001b[0;36mrecv_into\u001b[0;34m(self, buffer, nbytes, flags)\u001b[0m\n\u001b[1;32m   1312\u001b[0m                   \u001b[0;34m\"non-zero flags not allowed in calls to recv_into() on %s\"\u001b[0m \u001b[0;34m%\u001b[0m\u001b[0;34m\u001b[0m\u001b[0;34m\u001b[0m\u001b[0m\n\u001b[1;32m   1313\u001b[0m                   self.__class__)\n\u001b[0;32m-> 1314\u001b[0;31m             \u001b[0;32mreturn\u001b[0m \u001b[0mself\u001b[0m\u001b[0;34m.\u001b[0m\u001b[0mread\u001b[0m\u001b[0;34m(\u001b[0m\u001b[0mnbytes\u001b[0m\u001b[0;34m,\u001b[0m \u001b[0mbuffer\u001b[0m\u001b[0;34m)\u001b[0m\u001b[0;34m\u001b[0m\u001b[0;34m\u001b[0m\u001b[0m\n\u001b[0m\u001b[1;32m   1315\u001b[0m         \u001b[0;32melse\u001b[0m\u001b[0;34m:\u001b[0m\u001b[0;34m\u001b[0m\u001b[0;34m\u001b[0m\u001b[0m\n\u001b[1;32m   1316\u001b[0m             \u001b[0;32mreturn\u001b[0m \u001b[0msuper\u001b[0m\u001b[0;34m(\u001b[0m\u001b[0;34m)\u001b[0m\u001b[0;34m.\u001b[0m\u001b[0mrecv_into\u001b[0m\u001b[0;34m(\u001b[0m\u001b[0mbuffer\u001b[0m\u001b[0;34m,\u001b[0m \u001b[0mnbytes\u001b[0m\u001b[0;34m,\u001b[0m \u001b[0mflags\u001b[0m\u001b[0;34m)\u001b[0m\u001b[0;34m\u001b[0m\u001b[0;34m\u001b[0m\u001b[0m\n",
            "\u001b[0;32m/usr/lib/python3.11/ssl.py\u001b[0m in \u001b[0;36mread\u001b[0;34m(self, len, buffer)\u001b[0m\n\u001b[1;32m   1164\u001b[0m         \u001b[0;32mtry\u001b[0m\u001b[0;34m:\u001b[0m\u001b[0;34m\u001b[0m\u001b[0;34m\u001b[0m\u001b[0m\n\u001b[1;32m   1165\u001b[0m             \u001b[0;32mif\u001b[0m \u001b[0mbuffer\u001b[0m \u001b[0;32mis\u001b[0m \u001b[0;32mnot\u001b[0m \u001b[0;32mNone\u001b[0m\u001b[0;34m:\u001b[0m\u001b[0;34m\u001b[0m\u001b[0;34m\u001b[0m\u001b[0m\n\u001b[0;32m-> 1166\u001b[0;31m                 \u001b[0;32mreturn\u001b[0m \u001b[0mself\u001b[0m\u001b[0;34m.\u001b[0m\u001b[0m_sslobj\u001b[0m\u001b[0;34m.\u001b[0m\u001b[0mread\u001b[0m\u001b[0;34m(\u001b[0m\u001b[0mlen\u001b[0m\u001b[0;34m,\u001b[0m \u001b[0mbuffer\u001b[0m\u001b[0;34m)\u001b[0m\u001b[0;34m\u001b[0m\u001b[0;34m\u001b[0m\u001b[0m\n\u001b[0m\u001b[1;32m   1167\u001b[0m             \u001b[0;32melse\u001b[0m\u001b[0;34m:\u001b[0m\u001b[0;34m\u001b[0m\u001b[0;34m\u001b[0m\u001b[0m\n\u001b[1;32m   1168\u001b[0m                 \u001b[0;32mreturn\u001b[0m \u001b[0mself\u001b[0m\u001b[0;34m.\u001b[0m\u001b[0m_sslobj\u001b[0m\u001b[0;34m.\u001b[0m\u001b[0mread\u001b[0m\u001b[0;34m(\u001b[0m\u001b[0mlen\u001b[0m\u001b[0;34m)\u001b[0m\u001b[0;34m\u001b[0m\u001b[0;34m\u001b[0m\u001b[0m\n",
            "\u001b[0;31mKeyboardInterrupt\u001b[0m: "
          ]
        }
      ],
      "source": [
        "# Define the topic of the essay\n",
        "ESSAY_TOPIC = \"What were the impacts of Hurricane Helene and Hurricane Milton in 2024?\"\n",
        "\n",
        "# Define a thread configuration with a unique thread ID\n",
        "thread = {\"configurable\": {\"thread_id\": \"1\"}}\n",
        "# Create comprehensive initial state with defaults for all fields\n",
        "initial_state = {\n",
        "    \"task\": ESSAY_TOPIC,\n",
        "    \"max_revisions\": 1,\n",
        "    \"revision_number\": 1,\n",
        "    \"content\": [],\n",
        "    \"plan\": \"\",\n",
        "    \"draft\": \"\",\n",
        "    \"critique\": \"\",\n",
        "    \"perspectives\": {},\n",
        "    \"audience_type\": \"general\",\n",
        "    \"style_preference\": \"academic\",\n",
        "    \"recommended_structure\": \"\",\n",
        "    \"structure_template\": \"\",\n",
        "    \"adaptation_guide\": \"\",\n",
        "    \"style_guide\": \"\",\n",
        "    \"visual_elements\": [],\n",
        "    \"fact_check\": [],\n",
        "    \"bias_analysis\": \"\"\n",
        "}\n",
        "\n",
        "# Stream with comprehensive initial state and error handling\n",
        "for s in enhanced_graph.stream(initial_state, thread):\n",
        "    try:\n",
        "        step = next(iter(s))\n",
        "        if s[step] is None:\n",
        "            print(f\"WARNING: Node {step} returned None\")\n",
        "            display(Markdown(f\"# {step} (returned None)\"))\n",
        "        else:\n",
        "            display(Markdown(f\"# {step}\"))\n",
        "            for key, content in s[step].items():\n",
        "                if key == \"revision_number\":\n",
        "                    display(Markdown(f\"**Revision Number**: {content}\"))\n",
        "                elif isinstance(content, list):\n",
        "                    try:\n",
        "                        for c in content:\n",
        "                            display(Markdown(str(c)))\n",
        "                    except Exception as e:\n",
        "                        print(f\"Error displaying list content: {e}\")\n",
        "                else:\n",
        "                    try:\n",
        "                        display(Markdown(str(content)))\n",
        "                    except Exception as e:\n",
        "                        print(f\"Error displaying content for {key}: {e}\")\n",
        "    except Exception as e:\n",
        "        print(f\"Error in stream processing: {e}\")\n",
        "    print(\"\\n---\\n\")"
      ]
    },
    {
      "cell_type": "markdown",
      "metadata": {
        "id": "4c95d0cd7f6a"
      },
      "source": [
        "### Output the final draft of the essay"
      ]
    },
    {
      "cell_type": "code",
      "execution_count": 65,
      "metadata": {
        "id": "e50e674081f2",
        "outputId": "8269c48c-7294-4f79-c7d1-404d02d70cda",
        "colab": {
          "base_uri": "https://localhost:8080/",
          "height": 550
        }
      },
      "outputs": [
        {
          "output_type": "display_data",
          "data": {
            "text/plain": [
              "<IPython.core.display.Markdown object>"
            ],
            "text/markdown": "### The Devastating Impacts of Hurricane Helene and Hurricane Milton: A Comparative Analysis\nThe impacts of hurricanes on communities can be devastating, causing widespread destruction, loss of life, and long-term economic and environmental damage. Hurricane Helene and Hurricane Milton, which made landfall in 2024, are examples of significant hurricanes that had far-reaching consequences. This essay will examine the environmental, economic, and human impacts of these two hurricanes, highlighting the importance of disaster preparedness and mitigation strategies. Hurricane Helene, in particular, produced widespread and damaging landslides, while Hurricane Milton caused significant structural damage and flash flooding in several areas.\n\n### Environmental and Economic Impacts\nThe environmental effects of Hurricane Helene and Hurricane Milton were severe, with storm surges, flooding, and landslides causing damage to wildlife habitats and ecosystems. Hurricane Helene made landfall in Florida as a Category 4 storm, producing record rainfall and resulting in flash flooding, road washouts, and landslides in several areas. In contrast, Hurricane Milton's outer rainbands moved across the Treasure Coast, causing an EF-0 tornado in Martin and St. Lucie counties and an EF-1 tornado in St. Lucie County, resulting in significant structural damage and vegetative damage. The economic consequences of the hurricanes were also significant, with damage to infrastructure, losses to agriculture and tourism, and disruption of supply chains and trade. The total damage from both hurricanes is likely to exceed $50 billion, making them two of the costliest hurricanes in history.\n\n### Human Impacts and Conclusion\nThe human consequences of Hurricane Helene and Hurricane Milton were also severe, with loss of life, displacement, and psychological trauma reported in several areas. The response efforts of governments, NGOs, and local communities were critical in reducing the impacts of the hurricanes, with evacuation orders, emergency supplies, and shelter provided to those in need. In conclusion, the impacts of Hurricane Helene and Hurricane Milton highlight the importance of disaster preparedness and mitigation strategies in reducing the effects of hurricanes. By understanding the environmental, economic, and human impacts of these hurricanes, communities can better prepare for future disasters, reducing the risk of loss of life, property damage, and social disruption. Ultimately, the key to mitigating the effects of hurricanes lies in a combination of preparedness, planning, and proactive measures to reduce the vulnerability of communities to these powerful storms."
          },
          "metadata": {}
        }
      ],
      "source": [
        "display(Markdown(s[\"generate\"][\"draft\"]))"
      ]
    },
    {
      "cell_type": "markdown",
      "metadata": {
        "id": "c01d26c8df5b"
      },
      "source": [
        "## Additional Resources\n",
        "\n",
        "- [Google Cloud Generative AI repository on GitHub](https://github.com/GoogleCloudPlatform/generative-ai/)\n",
        "- [Gemini API in Google AI Studio](https://ai.google.dev/gemini-api/docs)\n",
        "- [Gemini API in Vertex AI](https://cloud.google.com/vertex-ai/generative-ai/docs/multimodal/overview)\n",
        "- [LangGraph tutorials](https://langchain-ai.github.io/langgraph/tutorials/)\n",
        "- [DeepLearning.AI course on AI Agents in LangGraph](https://www.deeplearning.ai/short-courses/ai-agents-in-langgraph/)"
      ]
    }
  ],
  "metadata": {
    "colab": {
      "name": "ai_agents_for_engineers.ipynb",
      "provenance": []
    },
    "kernelspec": {
      "display_name": "Python 3",
      "name": "python3"
    }
  },
  "nbformat": 4,
  "nbformat_minor": 0
}